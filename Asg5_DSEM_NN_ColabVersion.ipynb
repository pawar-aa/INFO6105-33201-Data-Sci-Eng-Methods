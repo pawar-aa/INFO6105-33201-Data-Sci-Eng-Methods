{
  "nbformat": 4,
  "nbformat_minor": 0,
  "metadata": {
    "colab": {
      "provenance": [],
      "toc_visible": true
    },
    "kernelspec": {
      "name": "python3",
      "display_name": "Python 3"
    },
    "language_info": {
      "name": "python"
    }
  },
  "cells": [
    {
      "cell_type": "markdown",
      "source": [
        "#Assignment 5: Neural Network Type Classification | TMNIST\n",
        "Author: Aashay Pawar\n",
        "\n",
        "NUID: 002134382\n"
      ],
      "metadata": {
        "id": "pukBGBtPz6sO"
      }
    },
    {
      "cell_type": "markdown",
      "source": [
        "##Task\n",
        "\n",
        "Find a  \"Hello World\"  Handwritten Digit Classification (MNIST) tutorial and create a similar tutorial for one of the TMNIST data sets.\n",
        "\n",
        "The tutorial must be posted on Kaggle associated with the data set you use (see https://www.kaggle.com/nikbearbrown/tmnist-alphabet-94-characters/codeLinks to an external site. )   Your notebook MUST not be identical to the other notebooks associated with the data.\n",
        "\n",
        "1. Nice Notebook https://www.kaggle.com/code/sheshngupta/tminst-character-recognition-94-4-accuracyLinks to an external site.\n",
        "\n",
        "2. The TMNIST data sets TMNIST Alphabet (94 characters), Typography MNIST (TMNIST) with 94 characters and over 281,000 images https://www.kaggle.com/nikbearbrown/tmnist-alphabet-94-characters/Links to an external site.\n",
        "\n",
        " \n",
        "\n",
        "3. TMNIST-Glyphs (MNIST Style Glyph images), Typography MNIST (TMNIST): Over 500000 images of 1812 glyphs in 2990 font styles https://www.kaggle.com/nimishmagre/tmnist-glyphs-1812-charactersLinks to an external site.\n",
        "\n",
        " \n",
        "\n",
        "4. TMNIST (Typeface MNIST), A database of Typeface-based digits https://www.kaggle.com/nimishmagre/tmnist-typeface-mnistLinks to an external site.\n",
        "\n",
        " \n",
        "\n",
        "5. Nice model Notebook https://www.kaggle.com/code/sheshngupta/tminst-character-recognition-94-4-accuracyLinks to an external site."
      ],
      "metadata": {
        "id": "zuzIq_ZnU8uf"
      }
    },
    {
      "cell_type": "markdown",
      "source": [
        "##Grading Rubric\n",
        "\n",
        "1. 40 % (accuracy) Minus 1 point for every 1% accuracy below 95% for TMNIST (Typeface MNIST) Minus 1 point for every 1% accuracy below 90% for TMNIST Alphabet (94 characters) or TMNIST-Glyphs (MNIST Style Glyph images)\n",
        "\n",
        " \n",
        "\n",
        "2. 10 % (Uniqueness) Up to 10 points may be deducted if your notebook looks too similar to the other notebooks posted (i.e. You will get 10 points if it looks like you wrote it and didn't copy it)\n",
        "\n",
        " \n",
        "\n",
        "3. 50 % (Explanation) How well did you explain the math, code, and ideas behind your neural network?"
      ],
      "metadata": {
        "id": "oP9W5eEmU_YD"
      }
    },
    {
      "cell_type": "markdown",
      "source": [
        "#About the Dataset\n",
        "\n",
        "Typography MNIST (TMNIST)\n",
        "\n",
        "MNIST style images of the following 94 alphabetic characters:\n",
        "\n",
        "{'0', '1', '2', '3', '4', '5', '6', '7', '8', '9', 'a', 'b', 'c', 'd', 'e', 'f', 'g', 'h', 'i', 'j', 'k', 'l', 'm', 'n', 'o', 'p', 'q', 'r', 's', 't', 'u', 'v', 'w', 'x', 'y', 'z', 'A', 'B', 'C', 'D', 'E', 'F', 'G', 'H', 'I', 'J', 'K', 'L', 'M', 'N', 'O', 'P', 'Q', 'R', 'S', 'T', 'U', 'V', 'W', 'X', 'Y', 'Z', '!', '\"', '#', '$', '%', '&', \"'\", '(', ')', '*', '+', ',', '-', '.', '/', ':', ';', '<', '=', '>', '?', '@', '[', '\\', ']', '^', '_', '`', '{', '|', '}', '~'}\n",
        "\n",
        "This repository contains a single csv .file.\n",
        "The structure of the csv file is:\n",
        "\n",
        "the first row contains column headers ['names', 'labels','1','2',…..'784']\n",
        "The 'names' column contains font file names such as 'Acme-Regular' and 'ZillaSlab-Bold'\n",
        "The 'labels' column contains characters such as '@','E' or '+'\n",
        "The remaining 784 columns contain the grayscale pixel values for the image of the corresponding character in the 'name' font-style\n",
        "This dataset contains over 281,000 images and is part of the Warhol.ai Computational Creativity and Cognitive Type projects.\n",
        "\n",
        "Kaggle: https://www.kaggle.com/datasets/nikbearbrown/tmnist-alphabet-94-characters"
      ],
      "metadata": {
        "id": "2hroa39Qz7Kq"
      }
    },
    {
      "cell_type": "markdown",
      "source": [
        "# Abstract\n",
        "In the task \"Neural Network Type Classification | TMNIST\", we will work together to create a \"Hello World\" handwritten digit classification tutorial using one of the TMNIST datasets. We will begin by selecting a suitable TMNIST dataset and then explore the dataset to gain insights into its properties. Next, we will preprocess the data to prepare it for training a neural network. We will then proceed to create a neural network model using a popular deep learning framework such as TensorFlow or PyTorch. After training the model, we will evaluate its performance on a separate test set to assess its accuracy. Finally, we will use the model to make predictions on new, unseen data. Throughout the tutorial, we will explain the various steps and concepts involved in building a neural network for classification and provide tips on best practices. By the end of the tutorial, you should have a good understanding of how to build and train a neural network for classification tasks using a TMNIST dataset.\n",
        "\n",
        "\n",
        "\n",
        "\n"
      ],
      "metadata": {
        "id": "FlGbEOqdz-Hf"
      }
    },
    {
      "cell_type": "markdown",
      "source": [
        "#Importing Libraries"
      ],
      "metadata": {
        "id": "JEfuW7h3186m"
      }
    },
    {
      "cell_type": "code",
      "source": [
        "import numpy as np \n",
        "import pandas as pd \n",
        "import re\n",
        "\n",
        "from sklearn.model_selection import train_test_split\n",
        "from sklearn.utils import shuffle\n",
        "\n",
        "import tensorflow as tf \n",
        "from tensorflow.keras.utils import to_categorical\n",
        "\n",
        "import matplotlib.pyplot as plt\n",
        "import warnings\n",
        "warnings.filterwarnings('ignore')\n",
        "%matplotlib inline"
      ],
      "metadata": {
        "id": "mNU6X44n2I8a"
      },
      "execution_count": null,
      "outputs": []
    },
    {
      "cell_type": "markdown",
      "source": [
        "# Reading Data\n",
        "\n",
        "The dataset is uploaded on my personal google drive in a folder named 'DSEM'. The below steps are how we can load data from the drive."
      ],
      "metadata": {
        "id": "NBJmPwDC2to3"
      }
    },
    {
      "cell_type": "markdown",
      "source": [
        "## Mounting Google Drive\n",
        "This code snippet is used to mount Google Drive on a Google Colab notebook. Google Drive is a cloud storage service provided by Google that allows users to store and share files and folders online.\n",
        "\n",
        "When this code is executed, it will prompt the user to authorize access to their Google Drive account by following a link and entering an authorization code. Once the authorization is granted, the user's Google Drive will be mounted at the \"/content/drive\" directory in the Colab environment. This allows the user to read and write files to their Google Drive directly from the Colab notebook."
      ],
      "metadata": {
        "id": "7pAmbejp5Xsa"
      }
    },
    {
      "cell_type": "code",
      "source": [
        "from google.colab import drive\n",
        "drive.mount('/content/drive')\n"
      ],
      "metadata": {
        "id": "WciiOhbx2PiB"
      },
      "execution_count": null,
      "outputs": []
    },
    {
      "cell_type": "markdown",
      "source": [
        "##Specifying path to dataset\n",
        "In this code snippet, a CSV file named \"94_character_TMNIST.csv\" is read into a pandas dataframe using the pandas \"read_csv\" function. The path to the file is specified as \"/content/drive/MyDrive/DSEM/94_character_TMNIST.csv\"."
      ],
      "metadata": {
        "id": "oNewle_Z5d2s"
      }
    },
    {
      "cell_type": "code",
      "source": [
        "path = '/content/drive/MyDrive/DSEM/94_character_TMNIST.csv'\n",
        "df = pd.read_csv(path)"
      ],
      "metadata": {
        "id": "ZFq1dyjX29CQ"
      },
      "execution_count": 3,
      "outputs": []
    },
    {
      "cell_type": "markdown",
      "source": [
        "##Reading data"
      ],
      "metadata": {
        "id": "VJVGduuN5h5i"
      }
    },
    {
      "cell_type": "code",
      "source": [
        "df.head()"
      ],
      "metadata": {
        "colab": {
          "base_uri": "https://localhost:8080/",
          "height": 236
        },
        "id": "6brnZ3GV5T95",
        "outputId": "809cde07-65bf-42e2-e52e-24de79c78558"
      },
      "execution_count": 4,
      "outputs": [
        {
          "output_type": "execute_result",
          "data": {
            "text/plain": [
              "                  names labels    1    2    3    4    5    6    7    8  ...  \\\n",
              "0         Salsa-Regular      6  0.0  0.0  0.0  0.0  0.0  0.0  0.0  0.0  ...   \n",
              "1  MouseMemoirs-Regular      D  0.0  0.0  0.0  0.0  0.0  0.0  0.0  0.0  ...   \n",
              "2     Creepster-Regular      f  0.0  0.0  0.0  0.0  0.0  0.0  0.0  0.0  ...   \n",
              "3     SeoulNamsan-Light      /  0.0  0.0  0.0  0.0  0.0  0.0  0.0  0.0  ...   \n",
              "4  HachiMaruPop-Regular      F  0.0  0.0  0.0  0.0  0.0  0.0  0.0  0.0  ...   \n",
              "\n",
              "   775  776  777  778  779  780  781  782  783  784  \n",
              "0  0.0  0.0  0.0  0.0  0.0  0.0  0.0  0.0  0.0  0.0  \n",
              "1  0.0  0.0  0.0  0.0  0.0  0.0  0.0  0.0  0.0  0.0  \n",
              "2  0.0  0.0  0.0  0.0  0.0  0.0  0.0  0.0  0.0  0.0  \n",
              "3  0.0  0.0  0.0  0.0  0.0  0.0  0.0  0.0  0.0  0.0  \n",
              "4  0.0  0.0  0.0  0.0  0.0  0.0  0.0  0.0  0.0  0.0  \n",
              "\n",
              "[5 rows x 786 columns]"
            ],
            "text/html": [
              "\n",
              "  <div id=\"df-e751c72a-841f-44a5-b38c-3073fbf7c1ad\">\n",
              "    <div class=\"colab-df-container\">\n",
              "      <div>\n",
              "<style scoped>\n",
              "    .dataframe tbody tr th:only-of-type {\n",
              "        vertical-align: middle;\n",
              "    }\n",
              "\n",
              "    .dataframe tbody tr th {\n",
              "        vertical-align: top;\n",
              "    }\n",
              "\n",
              "    .dataframe thead th {\n",
              "        text-align: right;\n",
              "    }\n",
              "</style>\n",
              "<table border=\"1\" class=\"dataframe\">\n",
              "  <thead>\n",
              "    <tr style=\"text-align: right;\">\n",
              "      <th></th>\n",
              "      <th>names</th>\n",
              "      <th>labels</th>\n",
              "      <th>1</th>\n",
              "      <th>2</th>\n",
              "      <th>3</th>\n",
              "      <th>4</th>\n",
              "      <th>5</th>\n",
              "      <th>6</th>\n",
              "      <th>7</th>\n",
              "      <th>8</th>\n",
              "      <th>...</th>\n",
              "      <th>775</th>\n",
              "      <th>776</th>\n",
              "      <th>777</th>\n",
              "      <th>778</th>\n",
              "      <th>779</th>\n",
              "      <th>780</th>\n",
              "      <th>781</th>\n",
              "      <th>782</th>\n",
              "      <th>783</th>\n",
              "      <th>784</th>\n",
              "    </tr>\n",
              "  </thead>\n",
              "  <tbody>\n",
              "    <tr>\n",
              "      <th>0</th>\n",
              "      <td>Salsa-Regular</td>\n",
              "      <td>6</td>\n",
              "      <td>0.0</td>\n",
              "      <td>0.0</td>\n",
              "      <td>0.0</td>\n",
              "      <td>0.0</td>\n",
              "      <td>0.0</td>\n",
              "      <td>0.0</td>\n",
              "      <td>0.0</td>\n",
              "      <td>0.0</td>\n",
              "      <td>...</td>\n",
              "      <td>0.0</td>\n",
              "      <td>0.0</td>\n",
              "      <td>0.0</td>\n",
              "      <td>0.0</td>\n",
              "      <td>0.0</td>\n",
              "      <td>0.0</td>\n",
              "      <td>0.0</td>\n",
              "      <td>0.0</td>\n",
              "      <td>0.0</td>\n",
              "      <td>0.0</td>\n",
              "    </tr>\n",
              "    <tr>\n",
              "      <th>1</th>\n",
              "      <td>MouseMemoirs-Regular</td>\n",
              "      <td>D</td>\n",
              "      <td>0.0</td>\n",
              "      <td>0.0</td>\n",
              "      <td>0.0</td>\n",
              "      <td>0.0</td>\n",
              "      <td>0.0</td>\n",
              "      <td>0.0</td>\n",
              "      <td>0.0</td>\n",
              "      <td>0.0</td>\n",
              "      <td>...</td>\n",
              "      <td>0.0</td>\n",
              "      <td>0.0</td>\n",
              "      <td>0.0</td>\n",
              "      <td>0.0</td>\n",
              "      <td>0.0</td>\n",
              "      <td>0.0</td>\n",
              "      <td>0.0</td>\n",
              "      <td>0.0</td>\n",
              "      <td>0.0</td>\n",
              "      <td>0.0</td>\n",
              "    </tr>\n",
              "    <tr>\n",
              "      <th>2</th>\n",
              "      <td>Creepster-Regular</td>\n",
              "      <td>f</td>\n",
              "      <td>0.0</td>\n",
              "      <td>0.0</td>\n",
              "      <td>0.0</td>\n",
              "      <td>0.0</td>\n",
              "      <td>0.0</td>\n",
              "      <td>0.0</td>\n",
              "      <td>0.0</td>\n",
              "      <td>0.0</td>\n",
              "      <td>...</td>\n",
              "      <td>0.0</td>\n",
              "      <td>0.0</td>\n",
              "      <td>0.0</td>\n",
              "      <td>0.0</td>\n",
              "      <td>0.0</td>\n",
              "      <td>0.0</td>\n",
              "      <td>0.0</td>\n",
              "      <td>0.0</td>\n",
              "      <td>0.0</td>\n",
              "      <td>0.0</td>\n",
              "    </tr>\n",
              "    <tr>\n",
              "      <th>3</th>\n",
              "      <td>SeoulNamsan-Light</td>\n",
              "      <td>/</td>\n",
              "      <td>0.0</td>\n",
              "      <td>0.0</td>\n",
              "      <td>0.0</td>\n",
              "      <td>0.0</td>\n",
              "      <td>0.0</td>\n",
              "      <td>0.0</td>\n",
              "      <td>0.0</td>\n",
              "      <td>0.0</td>\n",
              "      <td>...</td>\n",
              "      <td>0.0</td>\n",
              "      <td>0.0</td>\n",
              "      <td>0.0</td>\n",
              "      <td>0.0</td>\n",
              "      <td>0.0</td>\n",
              "      <td>0.0</td>\n",
              "      <td>0.0</td>\n",
              "      <td>0.0</td>\n",
              "      <td>0.0</td>\n",
              "      <td>0.0</td>\n",
              "    </tr>\n",
              "    <tr>\n",
              "      <th>4</th>\n",
              "      <td>HachiMaruPop-Regular</td>\n",
              "      <td>F</td>\n",
              "      <td>0.0</td>\n",
              "      <td>0.0</td>\n",
              "      <td>0.0</td>\n",
              "      <td>0.0</td>\n",
              "      <td>0.0</td>\n",
              "      <td>0.0</td>\n",
              "      <td>0.0</td>\n",
              "      <td>0.0</td>\n",
              "      <td>...</td>\n",
              "      <td>0.0</td>\n",
              "      <td>0.0</td>\n",
              "      <td>0.0</td>\n",
              "      <td>0.0</td>\n",
              "      <td>0.0</td>\n",
              "      <td>0.0</td>\n",
              "      <td>0.0</td>\n",
              "      <td>0.0</td>\n",
              "      <td>0.0</td>\n",
              "      <td>0.0</td>\n",
              "    </tr>\n",
              "  </tbody>\n",
              "</table>\n",
              "<p>5 rows × 786 columns</p>\n",
              "</div>\n",
              "      <button class=\"colab-df-convert\" onclick=\"convertToInteractive('df-e751c72a-841f-44a5-b38c-3073fbf7c1ad')\"\n",
              "              title=\"Convert this dataframe to an interactive table.\"\n",
              "              style=\"display:none;\">\n",
              "        \n",
              "  <svg xmlns=\"http://www.w3.org/2000/svg\" height=\"24px\"viewBox=\"0 0 24 24\"\n",
              "       width=\"24px\">\n",
              "    <path d=\"M0 0h24v24H0V0z\" fill=\"none\"/>\n",
              "    <path d=\"M18.56 5.44l.94 2.06.94-2.06 2.06-.94-2.06-.94-.94-2.06-.94 2.06-2.06.94zm-11 1L8.5 8.5l.94-2.06 2.06-.94-2.06-.94L8.5 2.5l-.94 2.06-2.06.94zm10 10l.94 2.06.94-2.06 2.06-.94-2.06-.94-.94-2.06-.94 2.06-2.06.94z\"/><path d=\"M17.41 7.96l-1.37-1.37c-.4-.4-.92-.59-1.43-.59-.52 0-1.04.2-1.43.59L10.3 9.45l-7.72 7.72c-.78.78-.78 2.05 0 2.83L4 21.41c.39.39.9.59 1.41.59.51 0 1.02-.2 1.41-.59l7.78-7.78 2.81-2.81c.8-.78.8-2.07 0-2.86zM5.41 20L4 18.59l7.72-7.72 1.47 1.35L5.41 20z\"/>\n",
              "  </svg>\n",
              "      </button>\n",
              "      \n",
              "  <style>\n",
              "    .colab-df-container {\n",
              "      display:flex;\n",
              "      flex-wrap:wrap;\n",
              "      gap: 12px;\n",
              "    }\n",
              "\n",
              "    .colab-df-convert {\n",
              "      background-color: #E8F0FE;\n",
              "      border: none;\n",
              "      border-radius: 50%;\n",
              "      cursor: pointer;\n",
              "      display: none;\n",
              "      fill: #1967D2;\n",
              "      height: 32px;\n",
              "      padding: 0 0 0 0;\n",
              "      width: 32px;\n",
              "    }\n",
              "\n",
              "    .colab-df-convert:hover {\n",
              "      background-color: #E2EBFA;\n",
              "      box-shadow: 0px 1px 2px rgba(60, 64, 67, 0.3), 0px 1px 3px 1px rgba(60, 64, 67, 0.15);\n",
              "      fill: #174EA6;\n",
              "    }\n",
              "\n",
              "    [theme=dark] .colab-df-convert {\n",
              "      background-color: #3B4455;\n",
              "      fill: #D2E3FC;\n",
              "    }\n",
              "\n",
              "    [theme=dark] .colab-df-convert:hover {\n",
              "      background-color: #434B5C;\n",
              "      box-shadow: 0px 1px 3px 1px rgba(0, 0, 0, 0.15);\n",
              "      filter: drop-shadow(0px 1px 2px rgba(0, 0, 0, 0.3));\n",
              "      fill: #FFFFFF;\n",
              "    }\n",
              "  </style>\n",
              "\n",
              "      <script>\n",
              "        const buttonEl =\n",
              "          document.querySelector('#df-e751c72a-841f-44a5-b38c-3073fbf7c1ad button.colab-df-convert');\n",
              "        buttonEl.style.display =\n",
              "          google.colab.kernel.accessAllowed ? 'block' : 'none';\n",
              "\n",
              "        async function convertToInteractive(key) {\n",
              "          const element = document.querySelector('#df-e751c72a-841f-44a5-b38c-3073fbf7c1ad');\n",
              "          const dataTable =\n",
              "            await google.colab.kernel.invokeFunction('convertToInteractive',\n",
              "                                                     [key], {});\n",
              "          if (!dataTable) return;\n",
              "\n",
              "          const docLinkHtml = 'Like what you see? Visit the ' +\n",
              "            '<a target=\"_blank\" href=https://colab.research.google.com/notebooks/data_table.ipynb>data table notebook</a>'\n",
              "            + ' to learn more about interactive tables.';\n",
              "          element.innerHTML = '';\n",
              "          dataTable['output_type'] = 'display_data';\n",
              "          await google.colab.output.renderOutput(dataTable, element);\n",
              "          const docLink = document.createElement('div');\n",
              "          docLink.innerHTML = docLinkHtml;\n",
              "          element.appendChild(docLink);\n",
              "        }\n",
              "      </script>\n",
              "    </div>\n",
              "  </div>\n",
              "  "
            ]
          },
          "metadata": {},
          "execution_count": 4
        }
      ]
    },
    {
      "cell_type": "code",
      "source": [
        "df.info()"
      ],
      "metadata": {
        "colab": {
          "base_uri": "https://localhost:8080/"
        },
        "id": "Bd8KpNks5nwi",
        "outputId": "f249035b-6258-4f82-f085-e0ab6afd09dd"
      },
      "execution_count": 5,
      "outputs": [
        {
          "output_type": "stream",
          "name": "stdout",
          "text": [
            "<class 'pandas.core.frame.DataFrame'>\n",
            "RangeIndex: 274093 entries, 0 to 274092\n",
            "Columns: 786 entries, names to 784\n",
            "dtypes: float64(784), object(2)\n",
            "memory usage: 1.6+ GB\n"
          ]
        }
      ]
    },
    {
      "cell_type": "markdown",
      "source": [
        "1. The number of rows and columns in the dataframe: In this case, there are 274,093 rows and 786 columns.\n",
        "\n",
        "2. The column names: The dataframe has 786 columns named \"names\", 0, 1, 2, ..., 783.\n",
        "\n",
        "3. The data types of each column: In this case, there are two data types - \"float64\" for 784 columns and \"object\" for 2 columns.\n",
        "\n",
        "4. The amount of memory used by the dataframe: In this case, the memory usage is reported as 1.6+ GB, which indicates that the dataframe is quite large and may require significant resources to work with.\n",
        "\n"
      ],
      "metadata": {
        "id": "1vm6lKo5NDOA"
      }
    },
    {
      "cell_type": "code",
      "source": [
        "df.isnull().sum()"
      ],
      "metadata": {
        "colab": {
          "base_uri": "https://localhost:8080/"
        },
        "id": "xIA5Wid15rOL",
        "outputId": "ba59a450-6dc3-44b5-d9c8-d256a38ee52a"
      },
      "execution_count": 6,
      "outputs": [
        {
          "output_type": "execute_result",
          "data": {
            "text/plain": [
              "names     0\n",
              "labels    0\n",
              "1         0\n",
              "2         0\n",
              "3         0\n",
              "         ..\n",
              "780       0\n",
              "781       0\n",
              "782       0\n",
              "783       0\n",
              "784       0\n",
              "Length: 786, dtype: int64"
            ]
          },
          "metadata": {},
          "execution_count": 6
        }
      ]
    },
    {
      "cell_type": "markdown",
      "source": [
        "None of the columns has missing values."
      ],
      "metadata": {
        "id": "XHq2dNpG5vTX"
      }
    },
    {
      "cell_type": "markdown",
      "source": [
        "# Cleaning Data\n",
        "The code below cleans a pandas dataframe by removing null values and groups labels into four categories: lowercase letters, uppercase letters, numbers, and symbols, using regular expressions. The resulting groups are stored in separate lists, and a new column called \"group\" is added to the dataframe to assign a group number to each label based on its category."
      ],
      "metadata": {
        "id": "C3G83l_rNWGM"
      }
    },
    {
      "cell_type": "code",
      "source": [
        "# Clean the dataset by removing null values and grouping all labels\n",
        "df.dropna(inplace=True)\n",
        "all_ = list(df['labels'].unique())\n",
        "pattern_uc = re.compile(r\"[A-Z]\")\n",
        "pattern_lc = re.compile(r\"[a-z]\")\n",
        "pattern_numbers = re.compile(r\"[0-9]\")\n",
        "pattern_symbols = re.compile(r\"[\\W]|[\\_\\,]\")\n",
        "lower_case = pattern_lc.findall(str(all_))\n",
        "Upper_case = pattern_uc.findall(str(all_))\n",
        "Numbers_ = pattern_numbers.findall(str(all_))\n",
        "Symbols_ = list(set(pattern_symbols.findall(str(all_))))\n",
        "Symbols_.pop(27)\n",
        "group = 1\n",
        "for list_ in (lower_case, Upper_case, Numbers_, Symbols_):\n",
        "    df.loc[df['labels'].isin(list_), 'group'] = str(group)\n",
        "    group += 1"
      ],
      "metadata": {
        "id": "GAAqdkqe55iT"
      },
      "execution_count": 7,
      "outputs": []
    },
    {
      "cell_type": "markdown",
      "source": [
        "# Separate the features and labels\n",
        "\n",
        "In this code snippet, two variables 'X' and 'y' are created from a pandas dataframe 'df' containing data and labels.\n",
        "\n",
        "The first line of code selects all rows in the 'df' dataframe and all columns from the third column ('iloc[:, 2:]') up to the second to last column ('-1'), and assigns this subset of the dataframe to the variable 'X'. The \".astype('float32')\" method is called to convert the data in 'X' to 32-bit floating point format, which is a common format for numerical data in machine learning.\n",
        "\n",
        "The second line of code creates a new dataframe called 'y' by selecting only the 'labels' column from the original dataframe 'df'. The double brackets are used to select the 'labels' column as a dataframe instead of a series.\n",
        "\n",
        "Overall, this code is used to separate the features (data) and labels (target variable) into two variables 'X' and 'y', respectively, which can be used in a machine learning model."
      ],
      "metadata": {
        "id": "V5jxDJowNfJJ"
      }
    },
    {
      "cell_type": "code",
      "source": [
        "X = df.iloc[:, 2:-1].astype('float32') \n",
        "y  = df[['labels']]"
      ],
      "metadata": {
        "id": "hA5W7TiF6Cjq"
      },
      "execution_count": 8,
      "outputs": []
    },
    {
      "cell_type": "markdown",
      "source": [
        "# Create dictionary for label mapping\n",
        "This code is used to create a dictionary that maps each label in 'y' to a unique numerical value, which is required to feed the labels to a machine learning model."
      ],
      "metadata": {
        "id": "8H0wrTONC7_-"
      }
    },
    {
      "cell_type": "code",
      "source": [
        "#preping the data to create dictionary\n",
        "labels = y['labels'].unique()\n",
        "values = [num for num in range(len(df['labels'].unique()))]\n",
        "label_dict= dict(zip(labels, values))\n",
        "label_dict_inv = dict(zip(values, labels))\n",
        "y['labels'].replace(label_dict, inplace=True)"
      ],
      "metadata": {
        "id": "GY3pZKiM6F5u"
      },
      "execution_count": 9,
      "outputs": []
    },
    {
      "cell_type": "code",
      "source": [
        "#Checking the mappings\n",
        "print(label_dict)"
      ],
      "metadata": {
        "colab": {
          "base_uri": "https://localhost:8080/"
        },
        "id": "Y6PRCetq6I56",
        "outputId": "737e451f-6157-42ad-8906-c7b65b2ade5d"
      },
      "execution_count": 10,
      "outputs": [
        {
          "output_type": "stream",
          "name": "stdout",
          "text": [
            "{'6': 0, 'D': 1, 'f': 2, '/': 3, 'F': 4, 'x': 5, 'J': 6, '8': 7, 'H': 8, 'k': 9, '@': 10, '1': 11, '=': 12, 'g': 13, ')': 14, '2': 15, 'd': 16, '^': 17, '3': 18, 't': 19, '#': 20, '.': 21, '4': 22, 'o': 23, '\"': 24, 'y': 25, 'A': 26, 'u': 27, 'G': 28, '-': 29, 'm': 30, 'W': 31, '&': 32, 'c': 33, '9': 34, 'N': 35, ']': 36, 'P': 37, 'X': 38, '|': 39, '}': 40, 'h': 41, '7': 42, 'j': 43, '5': 44, '>': 45, '?': 46, 'b': 47, '*': 48, 'w': 49, 'l': 50, '0': 51, '$': 52, 'I': 53, 'Y': 54, '%': 55, ':': 56, 'T': 57, 'K': 58, 'E': 59, '<': 60, 'V': 61, '{': 62, 'M': 63, 'S': 64, 'a': 65, 'i': 66, 'r': 67, \"'\": 68, 'p': 69, ';': 70, '[': 71, '+': 72, 'e': 73, 'U': 74, '(': 75, 's': 76, '~': 77, ',': 78, 'C': 79, 'q': 80, '_': 81, 'n': 82, 'B': 83, 'z': 84, 'v': 85, 'O': 86, 'R': 87, '`': 88, 'Z': 89, 'Q': 90, 'L': 91, '!': 92, '\\\\': 93}\n"
          ]
        }
      ]
    },
    {
      "cell_type": "markdown",
      "source": [
        "# Creating Training and Test Sets\n",
        "This code snippet creates a randomized 80-20 split of the dataset into training and testing sets, and assigns the resulting subsets to four variables, X_train, X_test, y_train, and y_test, which can be used for further model training, evaluation, and analysis."
      ],
      "metadata": {
        "id": "T95zB8fNOHrX"
      }
    },
    {
      "cell_type": "code",
      "source": [
        "# creating test train split of 80% and 20%\n",
        "X_train, X_test, y_train, y_test = train_test_split(X, y, test_size=0.2, random_state=42)"
      ],
      "metadata": {
        "id": "ZXb4QWm98flO"
      },
      "execution_count": 11,
      "outputs": []
    },
    {
      "cell_type": "markdown",
      "source": [
        "This code snippet is preparing the data for a deep learning model by reshaping the input data and converting the target variable to categorical format.\n",
        "\n",
        "1. First, the Length and Height variables are set to 28, which represents the dimensions of the image data.\n",
        "\n",
        "2. Next, the number of classes NCl is determined by finding the number of unique classes in the y_train target variable using the nunique method.\n",
        "\n",
        "3. The reshape method from the NumPy library is used to reshape the X_train and X_test data from a 2D matrix to a 4D tensor. The new shape is specified as (X_train.shape[0], Length, Height, 1), where X_train.shape[0] is the number of samples in the training set. This reshaping operation is necessary to prepare the data for a convolutional neural network (CNN) model, which takes in 4D tensors as input.\n",
        "\n",
        "4. The to_categorical function from the Keras library is used to convert the y_train and y_test target variables to categorical format. This function converts the class vector (integer values) to binary class matrix representation, which is necessary for training a multi-class classification model.\n",
        "\n",
        "5. Finally, the code prints the shapes of the X_train, X_test, y_train, and y_test arrays to confirm that the data has been correctly reshaped and converted to categorical format."
      ],
      "metadata": {
        "id": "jkeiVogwOOgm"
      }
    },
    {
      "cell_type": "code",
      "source": [
        "# Reshape the inputs\n",
        "Length, Height = 28, 28\n",
        "NCl = y_train.nunique()[0]\n",
        "X_train = np.reshape(X_train.values, (X_train.shape[0] , Length, Height, 1))\n",
        "X_test = np.reshape(X_test.values, (X_test.shape[0] , Length, Height, 1))\n",
        "y_train = to_categorical(y_train, NCl, dtype='int')\n",
        "y_test = to_categorical(y_test, NCl, dtype='int')\n",
        "\n",
        "print(f'X:Train, Test data shape:{X_train.shape},{X_test.shape}')\n",
        "print(f'Y:Train, Test data shape:{y_train.shape},{y_test.shape}')"
      ],
      "metadata": {
        "colab": {
          "base_uri": "https://localhost:8080/"
        },
        "id": "BlFD-CdC6Qot",
        "outputId": "8826c56a-cb94-4d5b-a904-94bb513bdc44"
      },
      "execution_count": 12,
      "outputs": [
        {
          "output_type": "stream",
          "name": "stdout",
          "text": [
            "X:Train, Test data shape:(219274, 28, 28, 1),(54819, 28, 28, 1)\n",
            "Y:Train, Test data shape:(219274, 94),(54819, 94)\n"
          ]
        }
      ]
    },
    {
      "cell_type": "markdown",
      "source": [
        "The output of the code indicates the shape of the X_train, X_test, y_train, and y_test arrays after the reshaping and conversion to categorical format.\n",
        "\n",
        "1. The X_train and X_test arrays have a shape of (219274, 28, 28, 1) and (54819, 28, 28, 1) respectively. The first dimension represents the number of samples, the second and third dimensions represent the height and width of the image (28 pixels each), and the last dimension represents the number of color channels, which is set to 1 in this case because the images are grayscale.\n",
        "\n",
        "2. The y_train and y_test arrays have a shape of (219274, 94) and (54819, 94) respectively. The first dimension represents the number of samples, and the second dimension represents the number of classes (94 in this case). The to_categorical function has converted the integer class labels into binary class matrices, where each row represents a sample, and each column represents a class. The value in each cell of the matrix is either 0 or 1, indicating whether the sample belongs to that class or not."
      ],
      "metadata": {
        "id": "RtKH47VHR77Z"
      }
    },
    {
      "cell_type": "markdown",
      "source": [
        "# Samples from Dataset\n",
        "This code is a simple way to visualize a sample of the characters in the dataset to get an idea of what the characters look like."
      ],
      "metadata": {
        "id": "jgZnDUri8kfm"
      }
    },
    {
      "cell_type": "code",
      "source": [
        "# Display a sample of characters from the dataset\n",
        "random = shuffle(X_train[:500])\n",
        "fig, ax = plt.subplots(3, 4, figsize=(10, 10)) \n",
        "axes = ax.flatten()\n",
        "for i in range(12):\n",
        "    img = np.reshape(random[i], (28, 28))\n",
        "    axes[i].imshow(img, cmap=\"Greys\")\n",
        "    img_final = np.reshape(img, (1, 28, 28, 1))\n",
        "    axes[i].grid()"
      ],
      "metadata": {
        "colab": {
          "base_uri": "https://localhost:8080/",
          "height": 775
        },
        "id": "t7rDaxSh8i5-",
        "outputId": "505d19b6-1f22-43cb-b0dc-e59849b03ea9"
      },
      "execution_count": 13,
      "outputs": [
        {
          "output_type": "display_data",
          "data": {
            "text/plain": [
              "<Figure size 1000x1000 with 12 Axes>"
            ],
            "image/png": "[encoded data removed]"
          },
          "metadata": {}
        }
      ]
    },
    {
      "cell_type": "markdown",
      "source": [
        "1. It first selects the first 500 samples from the training set using slicing and shuffles them randomly using the shuffle function from the sklearn.utils module.\n",
        "\n",
        "2. It then creates a 3x4 grid of subplots using plt.subplots() function from the matplotlib.pyplot module and flattens the array of axes objects using the flatten() method.\n",
        "\n",
        "3. It then loops through the 12 subplots and for each subplot, it reshapes the image data to a 2D array using NumPy's reshape function, sets the color map to grayscale using the cmap parameter of the imshow() method, and displays the image using the imshow() method. It then reshapes the image again into a 4D tensor with shape (1, 28, 28, 1) to make it compatible with the input shape required by the convolutional neural network model. Finally, it adds gridlines to the image using the grid() method."
      ],
      "metadata": {
        "id": "cfAu5kM7SbQ1"
      }
    },
    {
      "cell_type": "markdown",
      "source": [
        "# Importing libraries for building Neural Networks\n",
        "\n",
        "The below code imports several classes and functions from the Keras API of the TensorFlow library, which are used for building a neural network:\n",
        "\n",
        "1. Sequential is a class that allows you to create a linear stack of layers in a neural network. Each layer in the model is added using the add() method of the Sequential object.\n",
        "\n",
        "2. Dense is a class that implements a fully connected layer in a neural network. It is the most common layer type used in deep learning models.\n",
        "\n",
        "3. Conv2D is a class that implements a 2D convolutional layer in a neural network. It is used for image processing tasks.\n",
        "\n",
        "4. MaxPool2D is a class that implements a 2D max pooling layer in a neural network. It is used to reduce the spatial dimensions of the feature maps.\n",
        "\n",
        "5. Flatten is a class that flattens the input tensor into a 1D array. It is typically used to connect the convolutional layers to the fully connected layers in the neural network.\n",
        "\n",
        "6. Dropout is a class that randomly drops out a certain percentage of the input units during training to prevent overfitting.\n",
        "\n",
        "7. BatchNormalization is a class that normalizes the inputs to a layer in a neural network to improve the performance of the model.\n",
        "\n",
        "8. Activation is a class that applies an activation function to the output of a layer in a neural network.\n",
        "\n",
        "9. SGD, Adam, and RMSprop are classes that implement different optimization algorithms for training neural networks.\n",
        "\n",
        "10. EarlyStopping is a callback function that stops the training process early if the validation loss stops improving, which can help prevent overfitting."
      ],
      "metadata": {
        "id": "LBuMD7068qzt"
      }
    },
    {
      "cell_type": "code",
      "source": [
        "# importing libraries for building neural netwrok\n",
        "from tensorflow.keras.models import Sequential,load_model\n",
        "from tensorflow.keras.layers import Dense, Conv2D, MaxPool2D,Flatten,Dropout,BatchNormalization, Activation\n",
        "from tensorflow.keras.optimizers import SGD, Adam, RMSprop\n",
        "from tensorflow.keras.callbacks import EarlyStopping"
      ],
      "metadata": {
        "id": "S8hu8R9O8rzw"
      },
      "execution_count": 14,
      "outputs": []
    },
    {
      "cell_type": "markdown",
      "source": [
        "# Building the CNN Architecture\n",
        "This code defines the architecture of a convolutional neural network for image classification. The model consists of several convolutional layers, max pooling layers, and dropout layers. The final layers are fully connected layers with softmax activation to output class probabilities. The model is designed to take in input images of size 28x28 and output class predictions for a given number of classes."
      ],
      "metadata": {
        "id": "VlJbXIjO820O"
      }
    },
    {
      "cell_type": "code",
      "source": [
        "# Define the model architecture\n",
        "model = Sequential()\n",
        "model.add(Conv2D(filters=32, kernel_size=(3, 3), input_shape=(Length, Height, 1), padding='same'))\n",
        "model.add(BatchNormalization())\n",
        "model.add(Activation('relu'))\n",
        "model.add(MaxPool2D(pool_size=(2, 2)))\n",
        "model.add(Dropout(0.25))\n",
        "model.add(Conv2D(filters=64, kernel_size=(3, 3), padding='same'))\n",
        "model.add(BatchNormalization())\n",
        "model.add(Activation('relu'))\n",
        "model.add(Conv2D(filters=64, kernel_size=(3, 3), padding='same'))\n",
        "model.add(BatchNormalization())\n",
        "model.add(Activation('relu'))\n",
        "model.add(MaxPool2D(pool_size=(2, 2)))\n",
        "model.add(Dropout(0.25))\n",
        "model.add(Conv2D(filters=128, kernel_size=(3, 3), padding='same'))\n",
        "model.add(BatchNormalization())\n",
        "model.add(Activation('relu'))\n",
        "model.add(Conv2D(filters=128, kernel_size=(3, 3), padding='same'))\n",
        "model.add(BatchNormalization())\n",
        "model.add(Activation('relu'))\n",
        "model.add(MaxPool2D(pool_size=(2, 2)))\n",
        "model.add(Dropout(0.25))\n",
        "model.add(Flatten())\n",
        "model.add(Dense(units=1024))\n",
        "model.add(BatchNormalization())\n",
        "model.add(Activation('relu'))\n",
        "model.add(Dropout(0.5))\n",
        "model.add(Dense(units=NCl))\n",
        "model.add(Activation('softmax'))"
      ],
      "metadata": {
        "id": "TYhNw6bh80zn"
      },
      "execution_count": 15,
      "outputs": []
    },
    {
      "cell_type": "markdown",
      "source": [
        "The code below compiles the neural network model with the specified settings. The loss function used is categorical cross-entropy, which is a commonly used loss function for multiclass classification problems. The optimizer used is Adam, which is an adaptive learning rate optimization algorithm. The learning rate is set to 0.001. The metrics to be evaluated during training and testing are accuracy, which is the fraction of correctly classified images."
      ],
      "metadata": {
        "id": "MsjiC0yLT1Xg"
      }
    },
    {
      "cell_type": "code",
      "source": [
        "#Compile the model\n",
        "model.compile(loss='categorical_crossentropy', optimizer=Adam(lr=0.001), metrics=['accuracy'])"
      ],
      "metadata": {
        "colab": {
          "base_uri": "https://localhost:8080/"
        },
        "id": "URxkGBEX9DAt",
        "outputId": "7c3a6a98-ccb4-4b6c-e886-45250351f042"
      },
      "execution_count": 16,
      "outputs": [
        {
          "output_type": "stream",
          "name": "stderr",
          "text": [
            "WARNING:absl:`lr` is deprecated in Keras optimizer, please use `learning_rate` or use the legacy optimizer, e.g.,tf.keras.optimizers.legacy.Adam.\n"
          ]
        }
      ]
    },
    {
      "cell_type": "markdown",
      "source": [
        "# Training the model\n",
        "\n",
        "This code is training the defined model using the compiled settings. It is using the fit method of the model object to train on the training dataset (X_train and y_train) with a batch size of 128, for 10 epochs. It is also validating the model's performance on the test dataset (X_test and y_test).\n",
        "\n",
        "Additionally, it is using EarlyStopping callback to stop the training early if the validation accuracy does not improve for 10 consecutive epochs, thus preventing overfitting.\n",
        "\n",
        "The history variable is storing the training and validation accuracy and loss values for each epoch."
      ],
      "metadata": {
        "id": "YYdz4nAQ9E7E"
      }
    },
    {
      "cell_type": "code",
      "source": [
        "#Training\n",
        "early_stopping = EarlyStopping(monitor='val_accuracy', patience=10, verbose=1, mode='auto')\n",
        "history = model.fit(X_train, y_train, batch_size=128, epochs=10, validation_data=(X_test, y_test), callbacks=[early_stopping])"
      ],
      "metadata": {
        "colab": {
          "base_uri": "https://localhost:8080/"
        },
        "id": "eGCDS4A79Gfl",
        "outputId": "fff9cdbd-0bb3-45e2-b6b5-a6b85507a724"
      },
      "execution_count": 18,
      "outputs": [
        {
          "output_type": "stream",
          "name": "stdout",
          "text": [
            "Epoch 1/10\n",
            "1714/1714 [==============================] - 1237s 721ms/step - loss: 0.4824 - accuracy: 0.8567 - val_loss: 0.2581 - val_accuracy: 0.9214\n",
            "Epoch 2/10\n",
            "1714/1714 [==============================] - 1295s 756ms/step - loss: 0.2912 - accuracy: 0.9076 - val_loss: 0.2261 - val_accuracy: 0.9273\n",
            "Epoch 3/10\n",
            "1714/1714 [==============================] - 1224s 714ms/step - loss: 0.2529 - accuracy: 0.9186 - val_loss: 0.2087 - val_accuracy: 0.9306\n",
            "Epoch 4/10\n",
            "1714/1714 [==============================] - 1224s 714ms/step - loss: 0.2331 - accuracy: 0.9244 - val_loss: 0.1944 - val_accuracy: 0.9380\n",
            "Epoch 5/10\n",
            "1714/1714 [==============================] - 1257s 734ms/step - loss: 0.2169 - accuracy: 0.9280 - val_loss: 0.2045 - val_accuracy: 0.9335\n",
            "Epoch 6/10\n",
            "1714/1714 [==============================] - 1225s 715ms/step - loss: 0.2054 - accuracy: 0.9309 - val_loss: 0.1896 - val_accuracy: 0.9351\n",
            "Epoch 7/10\n",
            "1714/1714 [==============================] - 1225s 714ms/step - loss: 0.1933 - accuracy: 0.9345 - val_loss: 0.1730 - val_accuracy: 0.9420\n",
            "Epoch 8/10\n",
            "1714/1714 [==============================] - 1227s 716ms/step - loss: 0.1866 - accuracy: 0.9361 - val_loss: 0.1860 - val_accuracy: 0.9373\n",
            "Epoch 9/10\n",
            "1714/1714 [==============================] - 1224s 714ms/step - loss: 0.1808 - accuracy: 0.9372 - val_loss: 0.1734 - val_accuracy: 0.9438\n",
            "Epoch 10/10\n",
            "1714/1714 [==============================] - 1236s 721ms/step - loss: 0.1727 - accuracy: 0.9404 - val_loss: 0.1581 - val_accuracy: 0.9486\n"
          ]
        }
      ]
    },
    {
      "cell_type": "markdown",
      "source": [
        "# Evaluating the model\n",
        "This code evaluates the trained neural network model's accuracy on the test dataset. It calls the evaluate method of the model object and passes X_test and y_test as input arguments.\n",
        "\n",
        "The method returns the loss value and accuracy of the model on the test data, which are then printed to the console using the print function. The test loss is formatted to two decimal places and the test accuracy is formatted as a percentage."
      ],
      "metadata": {
        "id": "XDZFXeps9b0v"
      }
    },
    {
      "cell_type": "code",
      "source": [
        "#Evaluating model accuracy on test data\n",
        "test_loss, test_accuracy = model.evaluate(X_test, y_test)\n",
        "print(\"Test loss: {:.2f}\".format(test_loss))\n",
        "print(\"Test accuracy: {:.2f}%\".format(test_accuracy * 100))"
      ],
      "metadata": {
        "colab": {
          "base_uri": "https://localhost:8080/"
        },
        "id": "c2xwCIQf9e2f",
        "outputId": "65e57198-e8c9-490f-b3ab-38e9d1b4179b"
      },
      "execution_count": 19,
      "outputs": [
        {
          "output_type": "stream",
          "name": "stdout",
          "text": [
            "1714/1714 [==============================] - 77s 45ms/step - loss: 0.1581 - accuracy: 0.9486\n",
            "Test loss: 0.16\n",
            "Test accuracy: 94.86%\n"
          ]
        }
      ]
    },
    {
      "cell_type": "markdown",
      "source": [
        "# Visualizing the model performance\n",
        "This code is plotting the training and validation accuracy as well as the training and validation loss for each epoch during the training process. It uses the history object returned by the model.fit() method to access these values. The plt.plot() function is used to plot the values and the plt.legend() function is used to create a legend for the plot. Finally, the plt.show() function is called to display the plot."
      ],
      "metadata": {
        "id": "6HS5fKpy9hQo"
      }
    },
    {
      "cell_type": "code",
      "source": [
        "plt.plot(history.history['accuracy'], label='accuracy')\n",
        "plt.plot(history.history['val_accuracy'], label='val_accuracy')\n",
        "plt.plot(history.history['loss'], label='loss')\n",
        "plt.plot(history.history['val_loss'], label='val_loss')\n",
        "plt.legend(loc='best')\n",
        "plt.show()"
      ],
      "metadata": {
        "colab": {
          "base_uri": "https://localhost:8080/",
          "height": 430
        },
        "id": "ECxsplvZ9iLO",
        "outputId": "29ebb76b-b96b-4985-dea6-19e35a3c746c"
      },
      "execution_count": 20,
      "outputs": [
        {
          "output_type": "display_data",
          "data": {
            "text/plain": [
              "<Figure size 640x480 with 1 Axes>"
            ],
            "image/png": "[encoded data removed]"
          },
          "metadata": {}
        }
      ]
    },
    {
      "cell_type": "markdown",
      "source": [
        "From the about graph output, we can observe that the model accuracy increased and loss decreased over time."
      ],
      "metadata": {
        "id": "0wlZ8QWs3T88"
      }
    },
    {
      "cell_type": "markdown",
      "source": [
        "# Final Prediction"
      ],
      "metadata": {
        "id": "kAeWNgfi3YOa"
      }
    },
    {
      "cell_type": "code",
      "source": [
        "#predicting the charecters using trained model\n",
        "fig, axes = plt.subplots(3,3, figsize=(8,9))\n",
        "axes = axes.flatten()\n",
        "\n",
        "for i,ax in enumerate(axes):\n",
        "    img = np.reshape(X_test[i], (28,28)) # reshaping it for displaying\n",
        "    ax.imshow(img, cmap=\"Greys\")\n",
        "    img_final =np.reshape(img, (1,28,28,1)) # reshapng it for passing into model for prediction\n",
        "    pred = label_dict_inv[np.argmax(model.predict(img_final))]\n",
        "    ax.set_title(\"Prediction: \"+pred)\n",
        "    ax.grid()"
      ],
      "metadata": {
        "colab": {
          "base_uri": "https://localhost:8080/",
          "height": 915
        },
        "id": "7-GmxZqg3b2-",
        "outputId": "12901f63-2db7-4204-ea3d-6547c632372e"
      },
      "execution_count": 21,
      "outputs": [
        {
          "output_type": "stream",
          "name": "stdout",
          "text": [
            "1/1 [==============================] - 0s 252ms/step\n",
            "1/1 [==============================] - 0s 27ms/step\n",
            "1/1 [==============================] - 0s 24ms/step\n",
            "1/1 [==============================] - 0s 25ms/step\n",
            "1/1 [==============================] - 0s 33ms/step\n",
            "1/1 [==============================] - 0s 25ms/step\n",
            "1/1 [==============================] - 0s 25ms/step\n",
            "1/1 [==============================] - 0s 24ms/step\n",
            "1/1 [==============================] - 0s 28ms/step\n"
          ]
        },
        {
          "output_type": "display_data",
          "data": {
            "text/plain": [
              "<Figure size 800x900 with 9 Axes>"
            ],
            "image/png": "[encoded data removed]"
          },
          "metadata": {}
        }
      ]
    },
    {
      "cell_type": "markdown",
      "source": [
        "# Conclusion\n",
        "1. The model performed good and was able to predict with 100% accuracy (9 out of 9 predictions are correct)\n",
        "2. The accuracy on test test is 94.86% which is pretty decent for a simple CNN"
      ],
      "metadata": {
        "id": "KfHvH91V9uGg"
      }
    },
    {
      "cell_type": "markdown",
      "source": [
        "# References\n",
        "\n",
        "1. https://www.kaggle.com/nikbearbrown/tmnist-alphabet-94-characters/code\n",
        "2. https://www.kaggle.com/code/sheshngupta/tminst-character-recognition-94-4-accuracy\n",
        "3. https://www.kaggle.com/nikbearbrown/tmnist-alphabet-94-characters\n",
        "4. https://www.kaggle.com/nimishmagre/tmnist-glyphs-1812-characters\n",
        "5. https://www.kaggle.com/nimishmagre/tmnist-typeface-mnist\n",
        "6. https://www.kaggle.com/code/sheshngupta/tminst-character-recognition-94-4-accuracy"
      ],
      "metadata": {
        "id": "FcKefWgj0Cik"
      }
    },
    {
      "cell_type": "markdown",
      "source": [
        "# License\n",
        "\n",
        "MIT License\n",
        "\n",
        "Copyright (c) 2023 Aashay Pawar\n",
        "\n",
        "Permission is hereby granted, free of charge, to any person obtaining a copy of this software and associated documentation files (the \"Software\"), to deal in the Software without restriction, including without limitation the rights to use, copy, modify, merge, publish, distribute, sublicense, and/or sell copies of the Software, and to permit persons to whom the Software is furnished to do so, subject to the following conditions:\n",
        "\n",
        "The above copyright notice and this permission notice shall be included in all copies or substantial portions of the Software.\n",
        "\n",
        "THE SOFTWARE IS PROVIDED \"AS IS\", WITHOUT WARRANTY OF ANY KIND, EXPRESS OR IMPLIED, INCLUDING BUT NOT LIMITED TO THE WARRANTIES OF MERCHANTABILITY, FITNESS FOR A PARTICULAR PURPOSE AND NONINFRINGEMENT. IN NO EVENT SHALL THE AUTHORS OR COPYRIGHT HOLDERS BE LIABLE FOR ANY CLAIM, DAMAGES OR OTHER LIABILITY, WHETHER IN AN ACTION OF CONTRACT, TORT OR OTHERWISE, ARISING FROM, OUT OF OR IN CONNECTION WITH THE SOFTWARE OR THE USE OR OTHER DEALINGS IN THE SOFTWARE."
      ],
      "metadata": {
        "id": "tPEaCHs50Ddp"
      }
    }
  ]
}