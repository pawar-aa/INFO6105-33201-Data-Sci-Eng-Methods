{
  "nbformat": 4,
  "nbformat_minor": 0,
  "metadata": {
    "colab": {
      "provenance": []
    },
    "kernelspec": {
      "name": "python3",
      "display_name": "Python 3"
    },
    "language_info": {
      "name": "python"
    }
  },
  "cells": [
    {
      "cell_type": "code",
      "execution_count": null,
      "metadata": {
        "colab": {
          "base_uri": "https://localhost:8080/",
          "height": 1000
        },
        "id": "Sns2WQwjE_4R",
        "outputId": "769149b6-5dc1-4765-b977-b570e3bc2687"
      },
      "outputs": [
        {
          "output_type": "error",
          "ename": "ImportError",
          "evalue": "ignored",
          "traceback": [
            "\u001b[0;31m---------------------------------------------------------------------------\u001b[0m",
            "\u001b[0;31mImportError\u001b[0m                               Traceback (most recent call last)",
            "\u001b[0;32m<ipython-input-2-189c7200b8b7>\u001b[0m in \u001b[0;36m<module>\u001b[0;34m\u001b[0m\n\u001b[0;32m----> 1\u001b[0;31m \u001b[0;32mfrom\u001b[0m \u001b[0msklearn\u001b[0m\u001b[0;34m.\u001b[0m\u001b[0mdatasets\u001b[0m \u001b[0;32mimport\u001b[0m \u001b[0mload_boston\u001b[0m\u001b[0;34m\u001b[0m\u001b[0;34m\u001b[0m\u001b[0m\n\u001b[0m\u001b[1;32m      2\u001b[0m \u001b[0;32mfrom\u001b[0m \u001b[0msklearn\u001b[0m\u001b[0;34m.\u001b[0m\u001b[0mlinear_model\u001b[0m \u001b[0;32mimport\u001b[0m \u001b[0mLinearRegression\u001b[0m\u001b[0;34m\u001b[0m\u001b[0;34m\u001b[0m\u001b[0m\n\u001b[1;32m      3\u001b[0m \u001b[0;32mfrom\u001b[0m \u001b[0msklearn\u001b[0m\u001b[0;34m.\u001b[0m\u001b[0mpreprocessing\u001b[0m \u001b[0;32mimport\u001b[0m \u001b[0mPolynomialFeatures\u001b[0m\u001b[0;34m\u001b[0m\u001b[0;34m\u001b[0m\u001b[0m\n\u001b[1;32m      4\u001b[0m \u001b[0;32mfrom\u001b[0m \u001b[0msklearn\u001b[0m\u001b[0;34m.\u001b[0m\u001b[0mmetrics\u001b[0m \u001b[0;32mimport\u001b[0m \u001b[0mmean_squared_error\u001b[0m\u001b[0;34m\u001b[0m\u001b[0;34m\u001b[0m\u001b[0m\n\u001b[1;32m      5\u001b[0m \u001b[0;32mimport\u001b[0m \u001b[0mmatplotlib\u001b[0m\u001b[0;34m.\u001b[0m\u001b[0mpyplot\u001b[0m \u001b[0;32mas\u001b[0m \u001b[0mplt\u001b[0m\u001b[0;34m\u001b[0m\u001b[0;34m\u001b[0m\u001b[0m\n",
            "\u001b[0;32m/usr/local/lib/python3.8/dist-packages/sklearn/datasets/__init__.py\u001b[0m in \u001b[0;36m__getattr__\u001b[0;34m(name)\u001b[0m\n\u001b[1;32m    154\u001b[0m             \"\"\"\n\u001b[1;32m    155\u001b[0m         )\n\u001b[0;32m--> 156\u001b[0;31m         \u001b[0;32mraise\u001b[0m \u001b[0mImportError\u001b[0m\u001b[0;34m(\u001b[0m\u001b[0mmsg\u001b[0m\u001b[0;34m)\u001b[0m\u001b[0;34m\u001b[0m\u001b[0;34m\u001b[0m\u001b[0m\n\u001b[0m\u001b[1;32m    157\u001b[0m     \u001b[0;32mtry\u001b[0m\u001b[0;34m:\u001b[0m\u001b[0;34m\u001b[0m\u001b[0;34m\u001b[0m\u001b[0m\n\u001b[1;32m    158\u001b[0m         \u001b[0;32mreturn\u001b[0m \u001b[0mglobals\u001b[0m\u001b[0;34m(\u001b[0m\u001b[0;34m)\u001b[0m\u001b[0;34m[\u001b[0m\u001b[0mname\u001b[0m\u001b[0;34m]\u001b[0m\u001b[0;34m\u001b[0m\u001b[0;34m\u001b[0m\u001b[0m\n",
            "\u001b[0;31mImportError\u001b[0m: \n`load_boston` has been removed from scikit-learn since version 1.2.\n\nThe Boston housing prices dataset has an ethical problem: as\ninvestigated in [1], the authors of this dataset engineered a\nnon-invertible variable \"B\" assuming that racial self-segregation had a\npositive impact on house prices [2]. Furthermore the goal of the\nresearch that led to the creation of this dataset was to study the\nimpact of air quality but it did not give adequate demonstration of the\nvalidity of this assumption.\n\nThe scikit-learn maintainers therefore strongly discourage the use of\nthis dataset unless the purpose of the code is to study and educate\nabout ethical issues in data science and machine learning.\n\nIn this special case, you can fetch the dataset from the original\nsource::\n\n    import pandas as pd\n    import numpy as np\n\n    data_url = \"http://lib.stat.cmu.edu/datasets/boston\"\n    raw_df = pd.read_csv(data_url, sep=\"\\s+\", skiprows=22, header=None)\n    data = np.hstack([raw_df.values[::2, :], raw_df.values[1::2, :2]])\n    target = raw_df.values[1::2, 2]\n\nAlternative datasets include the California housing dataset and the\nAmes housing dataset. You can load the datasets as follows::\n\n    from sklearn.datasets import fetch_california_housing\n    housing = fetch_california_housing()\n\nfor the California housing dataset and::\n\n    from sklearn.datasets import fetch_openml\n    housing = fetch_openml(name=\"house_prices\", as_frame=True)\n\nfor the Ames housing dataset.\n\n[1] M Carlisle.\n\"Racist data destruction?\"\n<https://medium.com/@docintangible/racist-data-destruction-113e3eff54a8>\n\n[2] Harrison Jr, David, and Daniel L. Rubinfeld.\n\"Hedonic housing prices and the demand for clean air.\"\nJournal of environmental economics and management 5.1 (1978): 81-102.\n<https://www.researchgate.net/publication/4974606_Hedonic_housing_prices_and_the_demand_for_clean_air>\n",
            "",
            "\u001b[0;31m---------------------------------------------------------------------------\u001b[0;32m\nNOTE: If your import is failing due to a missing package, you can\nmanually install dependencies using either !pip or !apt.\n\nTo view examples of installing some common dependencies, click the\n\"Open Examples\" button below.\n\u001b[0;31m---------------------------------------------------------------------------\u001b[0m\n"
          ],
          "errorDetails": {
            "actions": [
              {
                "action": "open_url",
                "actionText": "Open Examples",
                "url": "/notebooks/snippets/importing_libraries.ipynb"
              }
            ]
          }
        }
      ],
      "source": [
        "from sklearn.datasets import load_boston\n",
        "from sklearn.linear_model import LinearRegression\n",
        "from sklearn.preprocessing import PolynomialFeatures\n",
        "from sklearn.metrics import mean_squared_error\n",
        "import matplotlib.pyplot as plt\n",
        "\n",
        "# Load the Boston Housing dataset\n",
        "boston = load_boston()\n",
        "\n",
        "# Extract the features and target\n",
        "X = boston.data\n",
        "y = boston.target\n",
        "\n",
        "# Split the dataset into training and testing sets\n",
        "split = int(len(X)*0.8)\n",
        "X_train, X_test = X[:split], X[split:]\n",
        "y_train, y_test = y[:split], y[split:]\n",
        "\n",
        "# Calculate the mean squared error for different polynomial degrees\n",
        "degrees = range(1, 10)\n",
        "mse_train = []\n",
        "mse_test = []\n",
        "for d in degrees:\n",
        "    poly = PolynomialFeatures(degree=d)\n",
        "    X_poly_train = poly.fit_transform(X_train)\n",
        "    X_poly_test = poly.fit_transform(X_test)\n",
        "    model = LinearRegression()\n",
        "    model.fit(X_poly_train, y_train)\n",
        "    y_pred_train = model.predict(X_poly_train)\n",
        "    y_pred_test = model.predict(X_poly_test)\n",
        "    mse_train.append(mean_squared_error(y_train, y_pred_train))\n",
        "    mse_test.append(mean_squared_error(y_test, y_pred_test))\n",
        "\n",
        "# Plot the results\n",
        "plt.plot(degrees, mse_train, label='Training')\n",
        "plt.plot(degrees, mse_test, label='Testing')\n",
        "plt.xlabel('Polynomial degree')\n",
        "plt.ylabel('Mean squared error')\n",
        "plt.legend()\n",
        "plt.show()\n"
      ]
    },
    {
      "cell_type": "code",
      "source": [
        "import numpy as np\n",
        "import matplotlib.pyplot as plt\n",
        "from sklearn.datasets import make_classification\n",
        "from sklearn.linear_model import LogisticRegression\n",
        "from sklearn.model_selection import train_test_split\n",
        "from sklearn.metrics import accuracy_score\n",
        "\n",
        "# Create a synthetic dataset with 2 classes and 2 features\n",
        "X, y = make_classification(n_samples=100, n_features=2, n_informative=2,\n",
        "                           n_redundant=0, n_clusters_per_class=1, random_state=42)\n",
        "\n",
        "# Split the dataset into training and testing sets\n",
        "X_train, X_test, y_train, y_test = train_test_split(X, y, test_size=0.2, random_state=42)\n",
        "\n",
        "# Visualize the data\n",
        "plt.scatter(X_train[:,0], X_train[:,1], c=y_train)\n",
        "plt.xlabel('Feature 1')\n",
        "plt.ylabel('Feature 2')\n",
        "plt.title('Synthetic Dataset')\n",
        "plt.show()\n",
        "\n",
        "# Train a logistic regression classifier on the training data\n",
        "lr = LogisticRegression()\n",
        "lr.fit(X_train, y_train)\n",
        "\n",
        "# Predict labels for the test data\n",
        "y_pred = lr.predict(X_test)\n",
        "\n",
        "# Evaluate the model on the test data\n",
        "accuracy = accuracy_score(y_test, y_pred)\n",
        "print('Accuracy:', accuracy)\n"
      ],
      "metadata": {
        "colab": {
          "base_uri": "https://localhost:8080/",
          "height": 313
        },
        "id": "JDR3lzvnFJYW",
        "outputId": "861bae14-b03d-4979-a544-ddb1d5e42048"
      },
      "execution_count": null,
      "outputs": [
        {
          "output_type": "display_data",
          "data": {
            "text/plain": [
              "<Figure size 432x288 with 1 Axes>"
            ],
            "image/png": "[encoded data removed]"
          },
          "metadata": {
            "needs_background": "light"
          }
        },
        {
          "output_type": "stream",
          "name": "stdout",
          "text": [
            "Accuracy: 1.0\n"
          ]
        }
      ]
    },
    {
      "cell_type": "code",
      "source": [
        "import numpy as np\n",
        "import matplotlib.pyplot as plt\n",
        "from sklearn.datasets import make_regression\n",
        "from sklearn.linear_model import LinearRegression\n",
        "from sklearn.model_selection import train_test_split\n",
        "from sklearn.metrics import mean_squared_error\n",
        "\n",
        "# Create a synthetic dataset with 1 feature and a target variable\n",
        "X, y = make_regression(n_samples=100, n_features=1, noise=10, random_state=42)\n",
        "\n",
        "# Split the dataset into training and testing sets\n",
        "X_train, X_test, y_train, y_test = train_test_split(X, y, test_size=0.2, random_state=42)\n",
        "\n",
        "# Visualize the data\n",
        "plt.scatter(X_train, y_train)\n",
        "plt.xlabel('Feature')\n",
        "plt.ylabel('Target')\n",
        "plt.title('Synthetic Dataset')\n",
        "plt.show()\n",
        "\n",
        "# Train a linear regression model on the training data\n",
        "lr = LinearRegression()\n",
        "lr.fit(X_train, y_train)\n",
        "\n",
        "# Predict target values for the test data\n",
        "y_pred = lr.predict(X_test)\n",
        "\n",
        "# Evaluate the model on the test data\n",
        "mse = mean_squared_error(y_test, y_pred)\n",
        "print('Mean Squared Error:', mse)\n"
      ],
      "metadata": {
        "colab": {
          "base_uri": "https://localhost:8080/",
          "height": 313
        },
        "id": "lD9e4uwsFJhe",
        "outputId": "f85e6808-b591-4e20-af78-d86984d7c4fa"
      },
      "execution_count": null,
      "outputs": [
        {
          "output_type": "display_data",
          "data": {
            "text/plain": [
              "<Figure size 432x288 with 1 Axes>"
            ],
            "image/png": "[encoded data removed]"
          },
          "metadata": {
            "needs_background": "light"
          }
        },
        {
          "output_type": "stream",
          "name": "stdout",
          "text": [
            "Mean Squared Error: 104.20222653187027\n"
          ]
        }
      ]
    },
    {
      "cell_type": "code",
      "source": [
        "import numpy as np\n",
        "import matplotlib.pyplot as plt\n",
        "from sklearn.datasets import make_regression\n",
        "from sklearn.linear_model import LinearRegression\n",
        "from sklearn.model_selection import train_test_split\n",
        "from sklearn.metrics import mean_squared_error\n",
        "\n",
        "# Create a synthetic dataset with 1 feature and a target variable\n",
        "X, y = make_regression(n_samples=100, n_features=1, noise=10, random_state=42)\n",
        "\n",
        "# Split the dataset into training and testing sets\n",
        "X_train, X_test, y_train, y_test = train_test_split(X, y, test_size=0.2, random_state=42)\n",
        "\n",
        "# Train a linear regression model on the training data\n",
        "lr = LinearRegression()\n",
        "lr.fit(X_train, y_train)\n",
        "\n",
        "# Predict target values for the test data\n",
        "y_pred = lr.predict(X_test)\n",
        "\n",
        "# Evaluate the model on the test data\n",
        "mse = mean_squared_error(y_test, y_pred)\n",
        "print('Mean Squared Error:', mse)\n",
        "\n",
        "# Visualize the data and the regression line\n",
        "plt.scatter(X_train, y_train, label='Training Data')\n",
        "plt.scatter(X_test, y_test, label='Test Data')\n",
        "plt.plot(X, lr.predict(X), color='red', linewidth=3, label='Regression Line')\n",
        "plt.xlabel('Feature')\n",
        "plt.ylabel('Target')\n",
        "plt.title('Synthetic Dataset with Regression Line')\n",
        "plt.legend()\n",
        "plt.show()\n"
      ],
      "metadata": {
        "colab": {
          "base_uri": "https://localhost:8080/",
          "height": 313
        },
        "id": "PXGDgKTTFJk2",
        "outputId": "dcc5ac51-1861-41f3-d617-5315e350efda"
      },
      "execution_count": null,
      "outputs": [
        {
          "output_type": "stream",
          "name": "stdout",
          "text": [
            "Mean Squared Error: 104.20222653187027\n"
          ]
        },
        {
          "output_type": "display_data",
          "data": {
            "text/plain": [
              "<Figure size 432x288 with 1 Axes>"
            ],
            "image/png": "[encoded data removed]"
          },
          "metadata": {
            "needs_background": "light"
          }
        }
      ]
    },
    {
      "cell_type": "code",
      "source": [
        " import numpy as np\n",
        "import matplotlib.pyplot as plt\n",
        "from sklearn.linear_model import LinearRegression\n",
        "\n",
        "# Generate some synthetic data\n",
        "np.random.seed(0)\n",
        "X = np.random.rand(100, 1)\n",
        "y = 2 + 3*X + np.random.randn(100, 1)\n",
        "\n",
        "# Train the linear regression model\n",
        "lr = LinearRegression()\n",
        "lr.fit(X, y)\n",
        "\n",
        "# Make predictions on new data\n",
        "X_new = np.linspace(0, 1, 100).reshape(-1, 1)\n",
        "y_pred = lr.predict(X_new)\n",
        "\n",
        "# Plot the results\n",
        "plt.scatter(X, y)\n",
        "plt.plot(X_new, y_pred, color='red')\n",
        "plt.xlabel('X')\n",
        "plt.ylabel('y')\n",
        "plt.title('Linear Regression Example')\n",
        "plt.show()\n"
      ],
      "metadata": {
        "colab": {
          "base_uri": "https://localhost:8080/",
          "height": 295
        },
        "id": "z1v3tA5sFJnu",
        "outputId": "a1405164-c6af-44b5-cab3-4ad847fbdd9e"
      },
      "execution_count": null,
      "outputs": [
        {
          "output_type": "display_data",
          "data": {
            "text/plain": [
              "<Figure size 432x288 with 1 Axes>"
            ],
            "image/png": "[encoded data removed]"
          },
          "metadata": {
            "needs_background": "light"
          }
        }
      ]
    },
    {
      "cell_type": "code",
      "source": [
        "import numpy as np\n",
        "import matplotlib.pyplot as plt\n",
        "from sklearn.linear_model import LinearRegression\n",
        "from sklearn.pipeline import Pipeline\n",
        "from sklearn.preprocessing import PolynomialFeatures\n",
        "from sklearn.metrics import mean_squared_error\n",
        "\n",
        "# Generate a synthetic data set\n",
        "np.random.seed(0)\n",
        "n_samples = 20\n",
        "X = np.sort(np.random.rand(n_samples))\n",
        "y = np.sin(2 * np.pi * X) + np.random.randn(n_samples) * 0.3\n",
        "\n",
        "# Plot the data set\n",
        "plt.scatter(X, y, s=20, color='blue', label='Data')\n",
        "plt.xlabel('x')\n",
        "plt.ylabel('y')\n",
        "plt.legend()\n",
        "plt.show()\n",
        "\n",
        "# Fit polynomial regression models of varying degree\n",
        "degrees = [1, 4, 15]\n",
        "colors = ['green', 'red', 'purple']\n",
        "plt.scatter(X, y, s=20, color='blue', label='Data')\n",
        "for degree, color in zip(degrees, colors):\n",
        "    polynomial_features = PolynomialFeatures(degree=degree, include_bias=False)\n",
        "    linear_regression = LinearRegression()\n",
        "    pipeline = Pipeline([(\"polynomial_features\", polynomial_features), (\"linear_regression\", linear_regression)])\n",
        "    pipeline.fit(X[:, np.newaxis], y)\n",
        "\n",
        "    # Plot the model predictions\n",
        "    X_test = np.linspace(0, 1, 100)\n",
        "    y_test = pipeline.predict(X_test[:, np.newaxis])\n",
        "    plt.plot(X_test, y_test, color=color, label=f'Degree {degree}')\n",
        "\n",
        "    # Print the mean squared error of the model\n",
        "    y_pred = pipeline.predict(X[:, np.newaxis])\n",
        "    mse = mean_squared_error(y, y_pred)\n",
        "    print(f\"Degree {degree} MSE: {mse:.2f}\")\n",
        "\n",
        "plt.xlabel('x')\n",
        "plt.ylabel('y')\n",
        "plt.legend()\n",
        "plt.show()\n"
      ],
      "metadata": {
        "colab": {
          "base_uri": "https://localhost:8080/",
          "height": 595
        },
        "id": "rJ4RSCHmFJq2",
        "outputId": "81eec9f3-2704-41f7-cc7b-793d05ad386e"
      },
      "execution_count": null,
      "outputs": [
        {
          "output_type": "display_data",
          "data": {
            "text/plain": [
              "<Figure size 432x288 with 1 Axes>"
            ],
            "image/png": "[encoded data removed]"
          },
          "metadata": {
            "needs_background": "light"
          }
        },
        {
          "output_type": "stream",
          "name": "stdout",
          "text": [
            "Degree 1 MSE: 0.14\n",
            "Degree 4 MSE: 0.09\n",
            "Degree 15 MSE: 0.03\n"
          ]
        },
        {
          "output_type": "display_data",
          "data": {
            "text/plain": [
              "<Figure size 432x288 with 1 Axes>"
            ],
            "image/png": "[encoded data removed]"
          },
          "metadata": {
            "needs_background": "light"
          }
        }
      ]
    },
    {
      "cell_type": "markdown",
      "source": [
        "#  Can you write a moderately hard multiple answers quiz question and show the answers for Normalization?\n",
        "\n",
        "Question: Which of the following statements about normalization in machine learning is true?\n",
        "\n",
        "A. Normalization is the process of converting categorical features into numerical features.    \n",
        "B. Normalization is the process of rescaling the features of a dataset to have similar scales or ranges.    \n",
        "C. Normalization can only be applied to the training set, not the test set.    \n",
        "D. Min-Max normalization always produces values between -1 and 1.     \n",
        "\n",
        "Answer: B.   \n",
        "\n",
        "Normalization is the process of rescaling the features of a dataset to have similar scales or ranges, which can improve the performance and convergence of machine learning algorithms. Normalization can be applied to the entire dataset or to individual features, depending on the problem and the data. It is important to apply the same normalization parameters to the training and test sets to ensure consistent scaling between the two sets. Normalization techniques include Min-Max normalization, Z-score normalization, and unit vector normalization. Min-Max normalization rescales the values of a feature to a range between 0 and 1, not necessarily between -1 and 1.\n"
      ],
      "metadata": {
        "id": "qPhJfIqoOwhF"
      }
    },
    {
      "cell_type": "code",
      "source": [
        "import numpy as np\n",
        "import matplotlib.pyplot as plt\n",
        "from sklearn.linear_model import LinearRegression\n",
        "from sklearn.preprocessing import StandardScaler\n",
        "from sklearn.metrics import mean_squared_error\n",
        "\n",
        "# Generate a synthetic data set\n",
        "np.random.seed(0)\n",
        "n_samples = 20\n",
        "X = np.sort(np.random.rand(n_samples))\n",
        "y = np.sin(2 * np.pi * X) + np.random.randn(n_samples) * 0.3\n",
        "\n",
        "# Plot the data set\n",
        "plt.scatter(X, y, s=20, color='blue', label='Data')\n",
        "plt.xlabel('x')\n",
        "plt.ylabel('y')\n",
        "plt.legend()\n",
        "plt.show()\n",
        "\n",
        "# Fit a linear regression model to non-normalized data\n",
        "model = LinearRegression()\n",
        "model.fit(X[:, np.newaxis], y)\n",
        "y_pred = model.predict(X[:, np.newaxis])\n",
        "mse = mean_squared_error(y, y_pred)\n",
        "print(f\"Non-normalized MSE: {mse:.2f}\")\n",
        "plt.scatter(X, y, s=20, color='blue', label='Data')\n",
        "plt.plot(X, y_pred, color='red', label='Model')\n",
        "plt.xlabel('x')\n",
        "plt.ylabel('y')\n",
        "plt.legend()\n",
        "plt.show()\n",
        "\n",
        "# Normalize the data and fit a linear regression model to the normalized data\n",
        "scaler = StandardScaler()\n",
        "X_norm = scaler.fit_transform(X[:, np.newaxis])\n",
        "model_norm = LinearRegression()\n",
        "model_norm.fit(X_norm, y)\n",
        "y_pred_norm = model_norm.predict(X_norm)\n",
        "mse_norm = mean_squared_error(y, y_pred_norm)\n",
        "print(f\"Normalized MSE: {mse_norm:.2f}\")\n",
        "plt.scatter(X, y, s=20, color='blue', label='Data')\n",
        "plt.plot(X, y_pred_norm, color='green', label='Model (Normalized)')\n",
        "plt.xlabel('x')\n",
        "plt.ylabel('y')\n",
        "plt.legend()\n",
        "plt.show()\n"
      ],
      "metadata": {
        "colab": {
          "base_uri": "https://localhost:8080/",
          "height": 839
        },
        "id": "EeBDlwLGOvhh",
        "outputId": "8420b7a3-77e2-4ac2-bde7-d107f72bb790"
      },
      "execution_count": null,
      "outputs": [
        {
          "output_type": "display_data",
          "data": {
            "text/plain": [
              "<Figure size 432x288 with 1 Axes>"
            ],
            "image/png": "[encoded data removed]"
          },
          "metadata": {
            "needs_background": "light"
          }
        },
        {
          "output_type": "stream",
          "name": "stdout",
          "text": [
            "Non-normalized MSE: 0.14\n"
          ]
        },
        {
          "output_type": "display_data",
          "data": {
            "text/plain": [
              "<Figure size 432x288 with 1 Axes>"
            ],
            "image/png": "[encoded data removed]"
          },
          "metadata": {
            "needs_background": "light"
          }
        },
        {
          "output_type": "stream",
          "name": "stdout",
          "text": [
            "Normalized MSE: 0.14\n"
          ]
        },
        {
          "output_type": "display_data",
          "data": {
            "text/plain": [
              "<Figure size 432x288 with 1 Axes>"
            ],
            "image/png": "[encoded data removed]"
          },
          "metadata": {
            "needs_background": "light"
          }
        }
      ]
    },
    {
      "cell_type": "markdown",
      "source": [
        "# Can you write moderately hard multiple answer question and show the answer for Regularization?\n",
        "\n",
        "Question: Which of the following statements about regularization in machine learning is true?\n",
        "\n",
        "A. Regularization is a technique for increasing the complexity of a model to better fit the training data.\n",
        "B. Regularization can help prevent overfitting of a model to the training data.\n",
        "C. Ridge regression always produces a more complex model than Lasso regression.\n",
        "D. Lasso regression always produces a more accurate model than Ridge regression.\n",
        "\n",
        "Answer: B. Regularization can help prevent overfitting of a model to the training data.\n",
        "\n",
        "Explanation: Regularization is a technique for preventing overfitting of a model to the training data by adding a penalty term to the loss function that encourages smaller coefficients. This penalty term helps to balance the trade-off between the fit of the model to the training data and the complexity of the model. Regularization can be applied using different types of penalties, such as L1 penalty (used in Lasso regression) or L2 penalty (used in Ridge regression). The choice of regularization technique depends on the specific problem and the desired properties of the resulting model. Therefore, statements A, C, and D are incorrect"
      ],
      "metadata": {
        "id": "tzjP8zgSTurg"
      }
    },
    {
      "cell_type": "markdown",
      "source": [
        "### Write a code to visualize regularization"
      ],
      "metadata": {
        "id": "xeiFklDzUJhi"
      }
    },
    {
      "cell_type": "code",
      "source": [
        "import numpy as np\n",
        "import matplotlib.pyplot as plt\n",
        "from sklearn.linear_model import Ridge, Lasso\n",
        "from sklearn.preprocessing import StandardScaler\n",
        "from sklearn.datasets import make_regression\n",
        "\n",
        "# Generate some random data\n",
        "X, y = make_regression(n_samples=100, n_features=10, noise=10, random_state=42)\n",
        "\n",
        "# Standardize the features\n",
        "scaler = StandardScaler()\n",
        "X = scaler.fit_transform(X)\n",
        "\n",
        "# Fit a linear regression model with Ridge regularization\n",
        "ridge = Ridge(alpha=1)\n",
        "ridge.fit(X, y)\n",
        "ridge_coefs = ridge.coef_\n",
        "\n",
        "# Fit a linear regression model with Lasso regularization\n",
        "lasso = Lasso(alpha=1)\n",
        "lasso.fit(X, y)\n",
        "lasso_coefs = lasso.coef_\n",
        "\n",
        "# Plot the coefficients for each model\n",
        "fig, ax = plt.subplots(figsize=(8, 6))\n",
        "ax.plot(range(len(ridge_coefs)), ridge_coefs, label='Ridge')\n",
        "ax.plot(range(len(lasso_coefs)), lasso_coefs, label='Lasso')\n",
        "ax.legend()\n",
        "ax.set_xlabel('Coefficient Index')\n",
        "ax.set_ylabel('Coefficient Value')\n",
        "plt.show()"
      ],
      "metadata": {
        "id": "Zju40q7IUE4u"
      },
      "execution_count": null,
      "outputs": []
    },
    {
      "cell_type": "code",
      "source": [],
      "metadata": {
        "id": "2-hDjF_uFJtu"
      },
      "execution_count": null,
      "outputs": []
    },
    {
      "cell_type": "code",
      "source": [],
      "metadata": {
        "id": "EdsQJeRhFJwl"
      },
      "execution_count": null,
      "outputs": []
    },
    {
      "cell_type": "code",
      "source": [],
      "metadata": {
        "id": "Tf_ta9TaFJzc"
      },
      "execution_count": null,
      "outputs": []
    },
    {
      "cell_type": "code",
      "source": [],
      "metadata": {
        "id": "ZlfpUL_GFJ2S"
      },
      "execution_count": null,
      "outputs": []
    },
    {
      "cell_type": "code",
      "source": [],
      "metadata": {
        "id": "ZUcLY6YiFJ5K"
      },
      "execution_count": null,
      "outputs": []
    },
    {
      "cell_type": "code",
      "source": [],
      "metadata": {
        "id": "DbCtaBjUFJ8C"
      },
      "execution_count": null,
      "outputs": []
    },
    {
      "cell_type": "code",
      "source": [],
      "metadata": {
        "id": "B282If_JFJ-5"
      },
      "execution_count": null,
      "outputs": []
    },
    {
      "cell_type": "code",
      "source": [],
      "metadata": {
        "id": "Wt91j_SaFKBy"
      },
      "execution_count": null,
      "outputs": []
    },
    {
      "cell_type": "code",
      "source": [],
      "metadata": {
        "id": "bRO_bimvFKEq"
      },
      "execution_count": null,
      "outputs": []
    },
    {
      "cell_type": "code",
      "source": [],
      "metadata": {
        "id": "YwU1mj4SFKHg"
      },
      "execution_count": null,
      "outputs": []
    },
    {
      "cell_type": "code",
      "source": [],
      "metadata": {
        "id": "xvVHy2jXFKKG"
      },
      "execution_count": null,
      "outputs": []
    },
    {
      "cell_type": "code",
      "source": [],
      "metadata": {
        "id": "kp_2elcJFKNA"
      },
      "execution_count": null,
      "outputs": []
    },
    {
      "cell_type": "code",
      "source": [],
      "metadata": {
        "id": "cZNFnsw_FKP0"
      },
      "execution_count": null,
      "outputs": []
    },
    {
      "cell_type": "code",
      "source": [],
      "metadata": {
        "id": "ZB6GzfaIFKSb"
      },
      "execution_count": null,
      "outputs": []
    },
    {
      "cell_type": "code",
      "source": [],
      "metadata": {
        "id": "9s0AX0gZFKVS"
      },
      "execution_count": null,
      "outputs": []
    },
    {
      "cell_type": "code",
      "source": [],
      "metadata": {
        "id": "Wm3n9uv1FKX4"
      },
      "execution_count": null,
      "outputs": []
    },
    {
      "cell_type": "code",
      "source": [],
      "metadata": {
        "id": "Ldk0Q07GFKag"
      },
      "execution_count": null,
      "outputs": []
    },
    {
      "cell_type": "code",
      "source": [],
      "metadata": {
        "id": "M76PT-t0FKdY"
      },
      "execution_count": null,
      "outputs": []
    },
    {
      "cell_type": "markdown",
      "source": [
        "# Can you write a moderately hard multiple answers quiz question and show the answers for Z-scores ?\n",
        "\n",
        "Question: A group of students took a standardized test and their scores were converted to Z-scores. Which of the following statements are true about the Z-scores?\n",
        "\n",
        "A) The mean of the Z-scores is always 0. \n",
        "B) The standard deviation of the Z-scores is always 1. \n",
        "C) A Z-score of 1.5 means that the corresponding raw score is 1.5 standard deviations above the mean.  \n",
        "D) A Z-score of -2.0 means that the corresponding raw score is in the top 2.5% of scores.   \n",
        "E) A Z-score of 0.5 means that the corresponding raw score is below the mean.\n",
        "    \n",
        "\n",
        "Answers:  \n",
        "A) True - By definition, the mean of a set of Z-scores is always 0.  \n",
        "B) True - By definition, the standard deviation of a set of Z-scores is always 1.  \n",
        "C) True - This is the definition of a Z-score, which measures the number of standard deviations a raw score is above or below the mean.  \n",
        "D) False - A Z-score of -2.0 means that the corresponding raw score is 2   standard deviations below the mean, which corresponds to the bottom 2.5% of scores (not the top).  \n",
        "E) False - A Z-score of 0.5 means that the corresponding raw score is 0.5 standard deviations above the mean (not below).  "
      ],
      "metadata": {
        "id": "_Eiao5TCPyuq"
      }
    },
    {
      "cell_type": "code",
      "source": [
        "import numpy as np\n",
        "import matplotlib.pyplot as plt\n",
        "\n",
        "# Generate some example data\n",
        "data = np.random.normal(50, 10, 100)\n",
        "\n",
        "# Calculate the Z-scores\n",
        "mean = np.mean(data)\n",
        "stddev = np.std(data)\n",
        "z_scores = (data - mean) / stddev\n",
        "\n",
        "# Plot the data and Z-scores\n",
        "fig, ax = plt.subplots(1, 2, figsize=(10, 5))\n",
        "ax[0].hist(data)\n",
        "ax[0].set_xlabel('Data')\n",
        "ax[0].set_ylabel('Frequency')\n",
        "ax[1].hist(z_scores)\n",
        "ax[1].set_xlabel('Z-score')\n",
        "ax[1].set_ylabel('Frequency')\n",
        "plt.show()\n"
      ],
      "metadata": {
        "colab": {
          "base_uri": "https://localhost:8080/",
          "height": 334
        },
        "id": "B6_6UhkBQmXB",
        "outputId": "4f7e2e65-626d-43a7-daf6-ff4fde7cfada"
      },
      "execution_count": null,
      "outputs": [
        {
          "output_type": "display_data",
          "data": {
            "text/plain": [
              "<Figure size 720x360 with 2 Axes>"
            ],
            "image/png": "[encoded data removed]"
          },
          "metadata": {
            "needs_background": "light"
          }
        }
      ]
    },
    {
      "cell_type": "code",
      "source": [],
      "metadata": {
        "id": "AyYU7wRzFKf-"
      },
      "execution_count": null,
      "outputs": []
    },
    {
      "cell_type": "code",
      "source": [],
      "metadata": {
        "id": "2iLLkWjdFKi1"
      },
      "execution_count": null,
      "outputs": []
    },
    {
      "cell_type": "markdown",
      "source": [
        "##Can you write a moderately hard multiple answers quiz question and show the answers for Lasso regression?\n",
        "\n",
        "Q: Which of the following statements are true about Lasso regression?\n",
        "\n",
        "A) Lasso regression can be used for feature selection by shrinking coefficients of some features to zero.\n",
        "\n",
        "B) Lasso regression is only suitable for linear regression problems.\n",
        "\n",
        "C) Lasso regression uses the L1 regularization penalty to prevent overfitting.\n",
        "\n",
        "D) Lasso regression always produces a sparse solution.\n",
        "\n",
        "E) Lasso regression is more computationally efficient than Ridge regression.\n",
        "\n",
        "Answer: A, C, and D are true, while B and E are false.\n",
        "\n",
        "Explanation:\n",
        "A) Lasso regression uses the L1 regularization penalty to shrink the coefficients of some features to zero, which effectively removes them from the model. This is a powerful form of feature selection that can help prevent overfitting and improve model interpretability.\n",
        "\n",
        "B) Lasso regression can be used for any type of regression problem, including both linear and non-linear models.\n",
        "\n",
        "C) Lasso regression uses the L1 regularization penalty to prevent overfitting by adding a penalty term to the loss function that encourages the model to use fewer features. This penalty shrinks the coefficients of some features to zero, effectively removing them from the model.\n",
        "\n",
        "D) Lasso regression does not always produce a sparse solution, but it often does. The sparsity of the solution depends on the strength of the regularization penalty and the nature of the data.\n",
        "\n",
        "E) Lasso regression can be more computationally expensive than Ridge regression, especially for large datasets or models with many features. This is because the L1 penalty used in Lasso regression does not have a closed-form solution, so an iterative optimization algorithm is needed to solve the problem. In contrast, Ridge regression has a closed-form solution that can be computed efficiently.\n",
        "\n",
        "\n",
        "\n"
      ],
      "metadata": {
        "id": "VGilPDhAF04e"
      }
    },
    {
      "cell_type": "markdown",
      "source": [
        "##Visualise MSE vs polynomials from a dataset imported with a URL"
      ],
      "metadata": {
        "id": "AyIQUUyDKAzp"
      }
    },
    {
      "cell_type": "code",
      "source": [
        "import numpy as np\n",
        "import pandas as pd\n",
        "import matplotlib.pyplot as plt\n",
        "from urllib.request import urlopen\n",
        "\n",
        "# Step 1: Import necessary libraries\n",
        "\n",
        "# Step 2: Import the dataset\n",
        "url = \"https://archive.ics.uci.edu/ml/machine-learning-databases/housing/housing.data\"\n",
        "data = pd.read_csv(urlopen(url), header=None, sep=\"\\s+\")\n",
        "\n",
        "# Step 3: Preprocess the data\n",
        "X = data.iloc[:, :-1].values\n",
        "y = data.iloc[:, -1].values\n",
        "\n",
        "# Step 4: Create a function to calculate MSE for different polynomial degrees\n",
        "def polynomial_mse(X, y, degree):\n",
        "    from sklearn.preprocessing import PolynomialFeatures\n",
        "    from sklearn.linear_model import LinearRegression\n",
        "    from sklearn.metrics import mean_squared_error\n",
        "    \n",
        "    polynomial_features = PolynomialFeatures(degree=degree)\n",
        "    X_poly = polynomial_features.fit_transform(X)\n",
        "    \n",
        "    model = LinearRegression()\n",
        "    model.fit(X_poly, y)\n",
        "    y_pred = model.predict(X_poly)\n",
        "    \n",
        "    mse = mean_squared_error(y, y_pred)\n",
        "    \n",
        "    return mse\n",
        "\n",
        "# Step 5: Visualize the results\n",
        "degrees = range(1, 10)\n",
        "mses = [polynomial_mse(X, y, degree) for degree in degrees]\n",
        "\n",
        "plt.plot(degrees, mses, marker='o')\n",
        "plt.xlabel('Degree of polynomial')\n",
        "plt.ylabel('Mean squared error')\n",
        "plt.title('MSE vs. polynomial degree')\n",
        "plt.show()\n"
      ],
      "metadata": {
        "colab": {
          "base_uri": "https://localhost:8080/",
          "height": 295
        },
        "id": "Kq6yTkGAGM5t",
        "outputId": "07b7ed2f-94c8-43cd-c2a2-96ad08f6578b"
      },
      "execution_count": null,
      "outputs": [
        {
          "output_type": "display_data",
          "data": {
            "text/plain": [
              "<Figure size 432x288 with 1 Axes>"
            ],
            "image/png": "[encoded data removed]"
          },
          "metadata": {
            "needs_background": "light"
          }
        }
      ]
    },
    {
      "cell_type": "code",
      "source": [],
      "metadata": {
        "id": "U23sxU7fGluY"
      },
      "execution_count": null,
      "outputs": []
    },
    {
      "cell_type": "markdown",
      "source": [
        "**Prompt:Bayes error**\n",
        "# **Q: Suppose we have a classification problem with two classes A and B, and the Bayes error is 0.15. Which of the following statements is true?**\n",
        "\n",
        "A) Any classifier will have an error rate of at most 0.15.\n",
        "\n",
        "B) Any classifier will have an error rate of at least 0.15.\n",
        "\n",
        "C) There exist classifiers that can achieve an error rate of 0.10.\n",
        "\n",
        "D) There exist classifiers that can achieve an error rate of 0.20.\n",
        "\n",
        "Answer: B) Any classifier will have an error rate of at least 0.15.\n",
        "\n",
        "Explanation: Bayes error is the minimum possible error rate that can be achieved on a particular classification problem. This means that any classifier, no matter how well-designed or well-trained, cannot achieve an error rate lower than the Bayes error. Therefore, option A is incorrect because it states that any classifier will have an error rate of at most 0.15, which may not be true if the classifier is not optimal. Option C is incorrect because it states that there exist classifiers that can achieve an error rate of 0.10, which is lower than the Bayes error, and therefore impossible. Option D is incorrect because it states that there exist classifiers that can achieve an error rate of 0.20, which is higher than the Bayes error, and therefore suboptimal. Hence, the correct answer is B) Any classifier will have an error rate of at least 0.15."
      ],
      "metadata": {
        "id": "Q6zu3KgTWH94"
      }
    },
    {
      "cell_type": "markdown",
      "source": [
        "# Can you write a moderately hard multiple answers quiz question and show the answers for Resampling/Bootstrapping/Cross-validation?\n",
        "# Question: Which of the following statements about resampling, bootstrapping, and cross-validation are true?\n",
        "\n",
        "A) Resampling is a technique used to assess the variability of a statistic by repeatedly sampling from a dataset. <br>\n",
        "B) Bootstrapping is a specific type of resampling in which the sampling is done with replacement. <br>\n",
        "C) Cross-validation is a technique used to evaluate the performance of a model by partitioning a dataset into training and testing sets. <br>\n",
        "D) Leave-one-out cross-validation (LOOCV) is a type of k-fold cross-validation where k equals the number of observations in the dataset. <br>\n",
        "E) Resampling and bootstrapping can be used to estimate standard errors and confidence intervals for regression coefficients.\n",
        "\n",
        "Answer: A, B, C, E\n",
        "\n",
        "Explanation: A) Resampling involves repeatedly drawing samples from a dataset in order to assess the variability of a statistic or estimate. It is commonly used in statistical inference and can provide estimates of standard errors and confidence intervals. B) Bootstrapping is a specific type of resampling in which the samples are drawn with replacement. It is used to estimate the sampling distribution of a statistic or estimate, particularly when the underlying distribution is unknown or non-normal. C) Cross-validation involves partitioning a dataset into training and testing sets, and evaluating the performance of a model based on how well it predicts the testing set. It is a popular technique for estimating the predictive performance of a model and can help prevent overfitting. D) LOOCV is a type of k-fold cross-validation where k equals the number of observations in the dataset. This means that each observation is used as a testing set, and the remaining observations are used as the training set. LOOCV is computationally expensive but can be useful when the dataset is small. E) Resampling and bootstrapping can be used to estimate standard errors and confidence intervals for regression coefficients. By repeatedly sampling from the dataset, we can estimate the variability of the coefficients and obtain more accurate estimates of their standard errors and confidence intervals."
      ],
      "metadata": {
        "id": "TF-tMfTJXb1b"
      }
    },
    {
      "cell_type": "code",
      "source": [
        "import numpy as np\n",
        "import matplotlib.pyplot as plt\n",
        "\n",
        "# create random data\n",
        "np.random.seed(0)\n",
        "x = np.random.randn(100)\n",
        "y = 2*x + np.random.randn(100)\n",
        "\n",
        "# calculate regression coefficients and intercept\n",
        "coef, intercept = np.polyfit(x, y, 1)\n",
        "\n",
        "# plot scatter plot and regression line\n",
        "plt.scatter(x, y)\n",
        "plt.plot(x, coef*x + intercept, color='red')\n",
        "\n",
        "# generate random samples\n",
        "sample_sizes = [10, 20, 30, 40, 50]\n",
        "for sample_size in sample_sizes:\n",
        "    for i in range(10):\n",
        "        sample_x = np.random.choice(x, size=sample_size, replace=True)\n",
        "        sample_y = np.random.choice(y, size=sample_size, replace=True)\n",
        "        sample_coef, sample_intercept = np.polyfit(sample_x, sample_y, 1)\n",
        "        plt.plot(x, sample_coef*x + sample_intercept, alpha=0.3)\n",
        "\n",
        "plt.show()"
      ],
      "metadata": {
        "colab": {
          "base_uri": "https://localhost:8080/",
          "height": 265
        },
        "id": "xun0NHI4X24X",
        "outputId": "338a45c1-f5ad-4733-da38-175838059c7f"
      },
      "execution_count": null,
      "outputs": [
        {
          "output_type": "display_data",
          "data": {
            "text/plain": [
              "<Figure size 432x288 with 1 Axes>"
            ],
            "image/png": "[encoded data removed]"
          },
          "metadata": {
            "needs_background": "light"
          }
        }
      ]
    },
    {
      "cell_type": "markdown",
      "source": [
        "##Which of the following can affect the accuracy of a Random Forest classifier?\n",
        "\n",
        "A) The number of decision trees in the forest.  \n",
        "B) The depth of each decision tree in the forest.  \n",
        "C) The number of features considered at each split.  \n",
        "D) The amount of training data available.  \n",
        "E) The distribution of the target variable in the training data.  \n",
        "F) The order in which the training data is presented to the classifier.  \n",
        "\n",
        "Possible answers:\n",
        "\n",
        "Correct answers: A, B, C, D, E\n",
        "\n",
        "Explanation:\n",
        "\n",
        "A: The number of decision trees in the forest can affect the accuracy of a Random Forest classifier because a larger number of trees can reduce overfitting and increase generalization.  \n",
        "B: The depth of each decision tree in the forest can affect the accuracy of a Random Forest classifier because deeper trees can capture more complex patterns in the data, but can also lead to overfitting.  \n",
        "C: The number of features considered at each split can affect the accuracy of a Random Forest classifier because a smaller number of features can reduce overfitting and increase generalization, but too few features can result in underfitting.    \n",
        "D: The amount of training data available can affect the accuracy of a Random Forest classifier because more data can help to reduce overfitting and increase generalization.   \n",
        "E: The distribution of the target variable in the training data can affect the accuracy of a Random Forest classifier because an imbalanced distribution can lead to biased predictions and poor generalization.    \n",
        "F: The order in which the training data is presented to the classifier does not affect the accuracy of a Random Forest classifier, because each decision tree is independent and can be trained on any random subset of the data.   \n",
        "\n",
        "\n"
      ],
      "metadata": {
        "id": "DMPTX_P9eoxU"
      }
    },
    {
      "cell_type": "code",
      "source": [
        "!pip install scikit-learn\n",
        "# Import necessary libraries\n",
        "from sklearn.datasets import load_iris\n",
        "from sklearn.ensemble import RandomForestClassifier\n",
        "from sklearn.model_selection import train_test_split\n",
        "from sklearn.metrics import accuracy_score\n",
        "\n",
        "# Load the Iris dataset\n",
        "iris = load_iris()\n",
        "\n",
        "# Split the data into training and testing sets\n",
        "X_train, X_test, y_train, y_test = train_test_split(iris.data, iris.target, test_size=0.2, random_state=42)\n",
        "\n",
        "# Initialize the Random Forest classifier with default hyperparameters\n",
        "rf = RandomForestClassifier()\n",
        "\n",
        "# Fit the Random Forest classifier to the training data\n",
        "rf.fit(X_train, y_train)\n",
        "\n",
        "# Predict the labels on the testing data\n",
        "y_pred = rf.predict(X_test)\n",
        "\n",
        "# Calculate the accuracy of the classifier\n",
        "accuracy = accuracy_score(y_test, y_pred)\n",
        "\n",
        "print(\"Random Forest classifier accuracy:\", accuracy)"
      ],
      "metadata": {
        "colab": {
          "base_uri": "https://localhost:8080/"
        },
        "id": "W38fwz7tdcbF",
        "outputId": "8694f568-44bd-470e-e301-59c8ee9b3869"
      },
      "execution_count": null,
      "outputs": [
        {
          "output_type": "stream",
          "name": "stdout",
          "text": [
            "Looking in indexes: https://pypi.org/simple, https://us-python.pkg.dev/colab-wheels/public/simple/\n",
            "Requirement already satisfied: scikit-learn in /usr/local/lib/python3.8/dist-packages (1.2.1)\n",
            "Requirement already satisfied: joblib>=1.1.1 in /usr/local/lib/python3.8/dist-packages (from scikit-learn) (1.2.0)\n",
            "Requirement already satisfied: numpy>=1.17.3 in /usr/local/lib/python3.8/dist-packages (from scikit-learn) (1.22.4)\n",
            "Requirement already satisfied: scipy>=1.3.2 in /usr/local/lib/python3.8/dist-packages (from scikit-learn) (1.10.1)\n",
            "Requirement already satisfied: threadpoolctl>=2.0.0 in /usr/local/lib/python3.8/dist-packages (from scikit-learn) (3.1.0)\n",
            "Random Forest classifier accuracy: 1.0\n"
          ]
        }
      ]
    },
    {
      "cell_type": "markdown",
      "source": [
        "##Can you write a moderately hard multiple answers quiz questions and show the answers for Confusion Matrix?\n",
        "\n",
        "\n",
        "What is the confusion matrix used for?\n",
        "\n",
        "A) Evaluating the performance of regression models\n",
        "\n",
        "B) Evaluating the performance of binary classification models\n",
        "\n",
        "C) Evaluating the performance of multi-class classification models\n",
        "\n",
        "D) None of the above\n",
        "\n",
        "Answer: B\n",
        "\n",
        "What are the two classes represented in a binary classification confusion matrix?\n",
        "\n",
        "A) True positive and false negative\n",
        "\n",
        "B) True positive and true negative\n",
        "\n",
        "C) False positive and true negative\n",
        "\n",
        "D) False positive and false negative\n",
        "\n",
        "Answer: B\n",
        "\n",
        "What is precision?\n",
        "\n",
        "A) The ratio of true positives to false negatives\n",
        "\n",
        "B) The ratio of true positives to true positives plus false positives\n",
        "\n",
        "C) The ratio of true positives to true positives plus false negatives\n",
        "\n",
        "D) The ratio of true positives to true positives plus false positives plus\n",
        "false negatives\n",
        "\n",
        "Answer: B\n",
        "\n",
        "What is recall?\n",
        "\n",
        "A) The ratio of true positives to false negatives\n",
        "\n",
        "B) The ratio of true positives to true positives plus false positives\n",
        "\n",
        "C) The ratio of true positives to true positives plus false negatives\n",
        "\n",
        "D) The ratio of true positives to true positives plus false positives plus false negatives\n",
        "\n",
        "Answer: C\n",
        "\n",
        "Which of the following statements about the confusion matrix is true?\n",
        "\n",
        "A) The sum of the values in each row of the confusion matrix is equal to the total number of samples.\n",
        "\n",
        "B) The sum of the values in each column of the confusion matrix is equal to the total number of samples.\n",
        "\n",
        "C) The diagonal values of the confusion matrix represent correct predictions.\n",
        "\n",
        "D) All of the above.\n",
        "\n",
        "Answer: D"
      ],
      "metadata": {
        "id": "H9eU7LXsmlT-"
      }
    },
    {
      "cell_type": "markdown",
      "source": [
        "Q: Which of the following statements about bootstrapping is/are true?\n",
        "\n",
        "A) Bootstrapping can be used to estimate the bias and variance of a model.\n",
        "B) Bootstrapping involves sampling with replacement from the original data.\n",
        "C) Bootstrapping assumes that the original data is normally distributed.\n",
        "D) Bootstrapping can only be used with large datasets.\n",
        "E) Bootstrapping can be used to estimate confidence intervals for a population parameter.\n",
        "F) Bootstrapping is a type of parametric statistical inference.\n",
        "\n",
        "\n",
        "\n",
        "Ans):  The correct answers are A), B), and E)\n",
        "1)Bootstrapping can be used to estimate the bias and variance of a model. This is true, as bootstrapping involves resampling from the original data to create new datasets and estimating the model on each new dataset to get a sense of the variability in the estimates.\n",
        "\n",
        "2)Bootstrapping involves sampling with replacement from the original data. This is true, as bootstrapping involves randomly selecting samples from the original data, with replacement, to create new datasets for analysis.\n",
        "\n",
        "3) Bootstrapping assumes that the original data is normally distributed. This statement is false. Bootstrapping does not make any assumptions about the distribution of the original data, and can be used with any type of data.\n",
        "\n",
        "4)Bootstrapping can only be used with large datasets. This statement is false. Bootstrapping can be used with any size dataset, but the quality of the estimates may improve as the sample size increases.\n",
        "\n",
        "5)Bootstrapping can be used to estimate confidence intervals for a population parameter. This is true, as bootstrapping involves resampling from the original data to create new datasets and using the distribution of the estimates from these new datasets to calculate a confidence interval.\n",
        "\n",
        "6) Bootstrapping is a type of parametric statistical inference. This statement is false. Bootstrapping is a nonparametric technique, meaning it does not require any assumptions about the underlying distribution of the data.\n",
        "\n",
        "\n"
      ],
      "metadata": {
        "id": "DBSRO_CawnIK"
      }
    },
    {
      "cell_type": "markdown",
      "source": [
        "# Can you write a moderately hard multiple answers quiz question and show the answers for Confusion Matrix?\n",
        "\n",
        "What is the correct interpretation of the following confusion matrix for a binary classification problem, where the positive class is \"spam\"?\n",
        "\n",
        "Predicted Spam\tPredicted Not Spam\n",
        "Actual Spam\t90\t10\n",
        "Actual Not Spam\t5\t895\n",
        "A) The model correctly identified 90% of all spam emails.\n",
        "B) The model correctly identified 90% of all non-spam emails.\n",
        "C) The model misclassified 10% of all spam emails as non-spam.\n",
        "D) The model misclassified 5% of all non-spam emails as spam.\n",
        "E) Both A and C are correct.\n",
        "\n",
        "Answer: E) Both A and C are correct.\n",
        "\n",
        "Explanation:\n",
        "\n",
        "A) The model correctly identified 90 out of 100 spam emails, so it has a recall of 90% for the positive class.\n",
        "C) The model misclassified 10 out of 100 spam emails as non-spam, so it has a false negative rate of 10% for the positive class."
      ],
      "metadata": {
        "id": "afaaTxhyxUUg"
      }
    },
    {
      "cell_type": "markdown",
      "source": [
        "### Q: Which of the following statements are true about Random Forest?\n",
        "\n",
        "\n",
        "A) It is an ensemble learning method.\n",
        "B) It combines multiple decision trees to create a more accurate model.\n",
        "C) It only works with categorical variables.\n",
        "D) It can be used for classification and regression tasks.\n",
        "E) It is not affected by overfitting.\n",
        "\n",
        "Answers:\n",
        "A) It is an ensemble learning method.\n",
        "B) It combines multiple decision trees to create a more accurate model.\n",
        "D) It can be used for classification and regression tasks.\n",
        "\n",
        "Explanation:\n",
        "Random Forest is an ensemble learning method that combines multiple decision trees to create a more accurate model. It can be used for both classification and regression tasks. However, it can work with both categorical and numerical variables. Unlike individual decision trees, Random Forest is less prone to overfitting but can still be affected by it."
      ],
      "metadata": {
        "id": "nMtC-tbkzvqe"
      }
    },
    {
      "cell_type": "markdown",
      "source": [
        "# Which of the following statements best describes the bias-variance tradeoff?\n",
        "\n",
        "A) Bias is the tendency of a model to make systematic errors on average, while variance is the tendency of a model to be sensitive to fluctuations in the training data.\n",
        "\n",
        "B) The bias-variance tradeoff refers to the tradeoff between the complexity of a model and its ability to generalize to new data.\n",
        "\n",
        "C) The bias-variance tradeoff is a tradeoff between the speed and accuracy of a model.\n",
        "\n",
        "D) Bias and variance are two metrics used to evaluate the performance of a model, and minimizing both is always the ultimate goal.\n",
        "\n",
        "Answer: A) Bias is the tendency of a model to make systematic errors on average, while variance is the tendency of a model to be sensitive to fluctuations in the training data."
      ],
      "metadata": {
        "id": "H8eEwrl89Wps"
      }
    },
    {
      "cell_type": "code",
      "source": [
        "import matplotlib.pyplot as plt\n",
        "import numpy as np\n",
        "\n",
        "# Function to calculate the Gini impurity\n",
        "def gini(p):\n",
        "    return (p)*(1 - (p)) + (1 - p)*(1 - (1 - p))\n",
        "\n",
        "# Function to calculate the Entropy\n",
        "def entropy(p):\n",
        "    return - p*np.log2(p) - (1 - p)*np.log2((1 - p))\n",
        "\n",
        "# Generate a range of probabilities from 0 to 1\n",
        "x = np.arange(0.0, 1.01, 0.01)\n",
        "\n",
        "# Calculate the impurity measures for each probability\n",
        "gini_impurity = gini(x)\n",
        "entropy_impurity = entropy(x)\n",
        "\n",
        "# Plot the impurity measures\n",
        "plt.plot(x, gini_impurity, label='Gini Impurity')\n",
        "plt.plot(x, entropy_impurity, label='Entropy')\n",
        "\n",
        "# Add labels and a legend to the plot\n",
        "plt.xlabel('Probability of positive class')\n",
        "plt.ylabel('Impurity')\n",
        "plt.title('Gini vs Entropy')\n",
        "plt.legend()\n",
        "\n",
        "# Display the plot\n",
        "plt.show()\n"
      ],
      "metadata": {
        "id": "Rtdnuctazw4j",
        "colab": {
          "base_uri": "https://localhost:8080/",
          "height": 366
        },
        "outputId": "34b07796-0c81-4fb7-a26c-0d02d1ce5882"
      },
      "execution_count": null,
      "outputs": [
        {
          "output_type": "stream",
          "name": "stderr",
          "text": [
            "<ipython-input-1-3026161aca98>:10: RuntimeWarning: divide by zero encountered in log2\n",
            "  return - p*np.log2(p) - (1 - p)*np.log2((1 - p))\n",
            "<ipython-input-1-3026161aca98>:10: RuntimeWarning: invalid value encountered in multiply\n",
            "  return - p*np.log2(p) - (1 - p)*np.log2((1 - p))\n"
          ]
        },
        {
          "output_type": "display_data",
          "data": {
            "text/plain": [
              "<Figure size 432x288 with 1 Axes>"
            ],
            "image/png": "[encoded data removed]"
          },
          "metadata": {
            "needs_background": "light"
          }
        }
      ]
    },
    {
      "cell_type": "markdown",
      "source": [
        "### Can you write a moderately hard multiple answers quiz question and show the answers for Gini & Entropy?\n",
        "\n",
        "### Which of the following statements is/are true about the Gini index and entropy as measures of impurity in decision trees?\n",
        "\n",
        "A) Both Gini and entropy take values between 0 and 1, where 0 indicates perfect purity and 1 indicates maximum impurity.\n",
        "B) Gini tends to favor larger partitions of the data, while entropy tends to favor smaller partitions.\n",
        "C) Gini is more sensitive to changes in class probabilities than entropy.\n",
        "D) Entropy is generally considered to be a better measure of impurity than Gini.\n",
        "\n",
        "Answer:\n",
        "\n",
        "A) Both Gini and entropy take values between 0 and 1, where 0 indicates perfect purity and 1 indicates maximum impurity.\n",
        "B) Gini tends to favor larger partitions of the data, while entropy tends to favor smaller partitions.\n",
        "C) Gini is more sensitive to changes in class probabilities than entropy.\n",
        "\n",
        "Explanation:\n",
        "\n",
        "Option A is true because both Gini and entropy are normalized measures of impurity that take values between 0 and 1.\n",
        "\n",
        "Option B is also true because the Gini index tends to produce larger partitions while entropy tends to produce smaller ones. This is because the Gini index measures the difference between the frequencies of each class in a partition, while entropy measures the degree of disorder or randomness in the partition.\n",
        "\n",
        "Option C is true because the Gini index is based on the squared probabilities of each class, which makes it more sensitive to changes in class probabilities than entropy.\n",
        "\n",
        "Option D is false because there is no universally agreed upon \"better\" measure of impurity. Gini and entropy are both widely used in decision tree algorithms and have their own advantages and disadvantages.\n",
        "\n",
        "\n",
        "\n",
        "\n",
        "\n"
      ],
      "metadata": {
        "id": "D5vKvptyDo3C"
      }
    },
    {
      "cell_type": "markdown",
      "source": [
        "Q: Which of the following statements are true about Gini and Entropy?\n",
        "\n",
        "a) Both Gini and Entropy are used to measure the impurity of a dataset.\n",
        "b) Gini tends to favor larger partitions, while Entropy tends to favor smaller partitions.\n",
        "c) Gini is more sensitive to changes in class probabilities, while Entropy is less sensitive.\n",
        "d) Gini is a more popular impurity measure in decision trees than Entropy.\n",
        "\n",
        "Answers: a) and c)\n",
        "\n",
        "Explanation:\n",
        "\n",
        "a) Both Gini and Entropy are commonly used as impurity measures in decision trees and other machine learning models to quantify the heterogeneity or impurity of a dataset. Gini measures the probability of incorrectly classifying a randomly chosen element in the dataset, while Entropy measures the average information content of the labels in the dataset.\n",
        "\n",
        "b) This statement is not true. While it is true that Gini and Entropy can produce different splits for the same dataset, there is no general preference for larger or smaller partitions.\n",
        "\n",
        "c) This statement is true. Gini tends to be more sensitive to changes in class probabilities than Entropy because Gini gives more weight to large class probabilities, whereas Entropy treats all class probabilities equally.\n",
        "\n",
        "d) This statement is not true. Although Gini is often used in decision trees, both Gini and Entropy are popular measures, and the choice between them often depends on the specific problem and dataset at hand."
      ],
      "metadata": {
        "id": "6IIaPUjGNeC1"
      }
    },
    {
      "cell_type": "markdown",
      "source": [],
      "metadata": {
        "id": "eCun3z3uNgn9"
      }
    },
    {
      "cell_type": "code",
      "source": [],
      "metadata": {
        "id": "ewuDLWflD2Br"
      },
      "execution_count": null,
      "outputs": []
    },
    {
      "cell_type": "markdown",
      "source": [
        "**Q: Which of the following statements about bootstrapping are true? Select all that apply.**\n",
        "\n",
        "A. Bootstrapping is a resampling technique used to estimate the sampling distribution of a statistic.\n",
        "B. Bootstrapping can only be used with large datasets.\n",
        "C. The bootstrap method involves repeatedly drawing random samples with replacement from the original dataset.\n",
        "D. Bootstrapping assumes that the sample is drawn from a normally distributed population.\n",
        "E. The confidence intervals generated by bootstrapping are generally wider than those generated by traditional methods.\n",
        "\n",
        "Answers: A, C, and E are true statements about bootstrapping. B is a false statement, as bootstrapping can be used with datasets of any size. D is also false, as bootstrapping makes no assumptions about the distribution of the population from which the sample is drawn."
      ],
      "metadata": {
        "id": "z9327NC-L9NR"
      }
    },
    {
      "cell_type": "markdown",
      "source": [
        "### Which of the following is an advantage of decision trees over other machine learning algorithms?\n",
        "\n",
        "A) Decision trees can handle both numerical and categorical data.\n",
        "B) Decision trees are always more accurate than other algorithms.\n",
        "C) Decision trees don't require any training data.\n",
        "D) Decision trees are immune to overfitting.\n",
        "\n",
        "The correct answer is A.\n",
        "\n",
        "Decision trees are versatile and can handle both numerical and categorical data, making them useful for a wide range of problems. However, they are not always more accurate than other algorithms, they do require training data, and they can still suffer from overfitting if not properly pruned."
      ],
      "metadata": {
        "id": "kip1dL4_KgtP"
      }
    },
    {
      "cell_type": "markdown",
      "source": [
        "Q: Which of the following statements are true about Gini and Entropy as splitting criteria in decision trees?\n",
        "\n",
        "a) Gini is a more computationally efficient measure than Entropy.\n",
        "b) Gini can only be used with binary classification problems, while Entropy can handle multiclass problems.\n",
        "c) Gini tends to create unbalanced splits, while Entropy tends to create more balanced splits.\n",
        "d) Gini and Entropy always produce the same split for a given dataset.\n",
        "\n",
        "Answers: a) and b)\n",
        "\n",
        "Explanation:\n",
        "\n",
        "a) This statement is true. Gini is generally faster to compute than Entropy, because it involves only simple arithmetic operations, while Entropy requires logarithms.\n",
        "\n",
        "b) This statement is also true. Gini can only be used with binary classification problems, while Entropy can be used with both binary and multiclass problems.\n",
        "\n",
        "c) This statement is not true. Gini and Entropy can produce different splits for the same dataset, and there is no general preference for balanced or unbalanced splits.\n",
        "\n",
        "d) This statement is not true. Gini and Entropy can produce different splits for the same dataset, and the choice between them often depends on the specific problem and dataset at hand."
      ],
      "metadata": {
        "id": "h5o9JI3LNt0d"
      }
    },
    {
      "cell_type": "markdown",
      "source": [
        "Q: Which of the following statements are true about the relationship between Gini and Entropy in decision trees?\n",
        "\n",
        "a) Gini and Entropy always produce the same split for a given dataset.\n",
        "b) Gini tends to be larger than Entropy for imbalanced datasets.\n",
        "c) Entropy tends to be larger than Gini for imbalanced datasets.\n",
        "d) Gini and Entropy have the same range of values.\n",
        "\n",
        "Answers: b) and c)\n",
        "\n",
        "Explanation:\n",
        "\n",
        "a) This statement is not true. Gini and Entropy can produce different splits for the same dataset, and the choice between them often depends on the specific problem and dataset at hand.\n",
        "\n",
        "b) This statement is true. Gini tends to be larger than Entropy for imbalanced datasets, because Gini gives more weight to the larger class probabilities, which can make the impurity measure more sensitive to the dominant class.\n",
        "\n",
        "c) This statement is also true. Entropy tends to be larger than Gini for imbalanced datasets, because Entropy treats all class probabilities equally, which can make the impurity measure more sensitive to the minority class.\n",
        "\n",
        "d) This statement is not true. Gini and Entropy have different ranges of values. Gini ranges from 0 to 0.5, while Entropy ranges from 0 to 1.\n"
      ],
      "metadata": {
        "id": "lAsOC1rxNv74"
      }
    }
  ]
}